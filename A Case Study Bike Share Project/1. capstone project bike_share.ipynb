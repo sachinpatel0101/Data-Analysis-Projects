{
 "cells": [
  {
   "cell_type": "markdown",
   "id": "27bcbd9a",
   "metadata": {},
   "source": [
    "# Case Study: How Does a Bike-Share Navigate Speedy Success?"
   ]
  },
  {
   "cell_type": "markdown",
   "id": "d6ae5c6d",
   "metadata": {},
   "source": [
    "## Business task"
   ]
  },
  {
   "cell_type": "markdown",
   "id": "0645bd79",
   "metadata": {},
   "source": [
    "# How do annual members and casual riders use Cyclistic bikes differently?"
   ]
  },
  {
   "cell_type": "markdown",
   "id": "6fb17489",
   "metadata": {},
   "source": [
    "# Scenario"
   ]
  },
  {
   "cell_type": "markdown",
   "id": "863c628e",
   "metadata": {},
   "source": [
    "You are a junior data analyst working in the marketing analyst team at Cyclistic, a bike-share company. The director\n",
    "of marketing believes the company’s future success depends on maximizing the number of annual memberships. Therefore,\n",
    "your team wants to understand how casual riders(without annual membership) and annual members(with annual membership) use Cyclistic bikes differently. From these insights,\n",
    "your team will design a new marketing strategy to convert casual riders into annual members."
   ]
  },
  {
   "cell_type": "markdown",
   "id": "ffe2b3bd",
   "metadata": {},
   "source": [
    "# Data Preparation"
   ]
  },
  {
   "cell_type": "markdown",
   "id": "482d45b6",
   "metadata": {},
   "source": [
    "we will use Cyclistic’s historical trip data to analyze and identify trends. data can be found at [https://divvy-tripdata.s3.amazonaws.com/index.html] this link. Data is organised on a monthly basis and we are using data for year 2021 all months. This dataset is publicly available and is reliable, cited, original."
   ]
  },
  {
   "cell_type": "code",
   "execution_count": 1,
   "id": "3755ce7e",
   "metadata": {},
   "outputs": [],
   "source": [
    "import pandas as pd\n",
    "import numpy as np\n",
    "import matplotlib.pyplot as plt\n",
    "import seaborn as sns"
   ]
  },
  {
   "cell_type": "markdown",
   "id": "ec008b03",
   "metadata": {},
   "source": [
    "Checking sample files shape"
   ]
  },
  {
   "cell_type": "code",
   "execution_count": 3,
   "id": "b110fdda",
   "metadata": {},
   "outputs": [
    {
     "data": {
      "text/plain": [
       "(96834, 13)"
      ]
     },
     "execution_count": 3,
     "metadata": {},
     "output_type": "execute_result"
    }
   ],
   "source": [
    "d1 = pd.read_csv(\"202101-divvy-tripdata.csv\")\n",
    "d1.shape"
   ]
  },
  {
   "cell_type": "code",
   "execution_count": 4,
   "id": "ebe70acb",
   "metadata": {},
   "outputs": [
    {
     "data": {
      "text/plain": [
       "(49622, 13)"
      ]
     },
     "execution_count": 4,
     "metadata": {},
     "output_type": "execute_result"
    }
   ],
   "source": [
    "d2 = pd.read_csv(\"202102-divvy-tripdata.csv\")\n",
    "d2.shape"
   ]
  },
  {
   "cell_type": "code",
   "execution_count": 5,
   "id": "dac03afc",
   "metadata": {},
   "outputs": [
    {
     "data": {
      "text/plain": [
       "(756147, 13)"
      ]
     },
     "execution_count": 5,
     "metadata": {},
     "output_type": "execute_result"
    }
   ],
   "source": [
    "d3 = pd.read_csv(\"202109-divvy-tripdata.csv\")\n",
    "d3.shape"
   ]
  },
  {
   "cell_type": "markdown",
   "id": "957cb51b",
   "metadata": {},
   "source": [
    "seems like all datasets are having same number of columns so can join them vertically"
   ]
  },
  {
   "cell_type": "markdown",
   "id": "43c272dd",
   "metadata": {},
   "source": [
    "# Merging all data files"
   ]
  },
  {
   "cell_type": "code",
   "execution_count": 6,
   "id": "cac79bd7",
   "metadata": {},
   "outputs": [],
   "source": [
    "from glob import glob "
   ]
  },
  {
   "cell_type": "code",
   "execution_count": 12,
   "id": "3ebef87a",
   "metadata": {},
   "outputs": [
    {
     "data": {
      "text/plain": [
       "['202101.csv',\n",
       " '202102.csv',\n",
       " '202103.csv',\n",
       " '202104.csv',\n",
       " '202105.csv',\n",
       " '202106.csv',\n",
       " '202107.csv',\n",
       " '202108.csv',\n",
       " '202109.csv',\n",
       " '202110.csv',\n",
       " '202111.csv',\n",
       " '202112.csv']"
      ]
     },
     "execution_count": 12,
     "metadata": {},
     "output_type": "execute_result"
    }
   ],
   "source": [
    "data_file = sorted(glob('2021*.csv'))\n",
    "data_file"
   ]
  },
  {
   "cell_type": "code",
   "execution_count": 13,
   "id": "59dc8ad1",
   "metadata": {},
   "outputs": [
    {
     "name": "stdout",
     "output_type": "stream",
     "text": [
      "Wall time: 33.8 s\n"
     ]
    },
    {
     "data": {
      "text/html": [
       "<div>\n",
       "<style scoped>\n",
       "    .dataframe tbody tr th:only-of-type {\n",
       "        vertical-align: middle;\n",
       "    }\n",
       "\n",
       "    .dataframe tbody tr th {\n",
       "        vertical-align: top;\n",
       "    }\n",
       "\n",
       "    .dataframe thead th {\n",
       "        text-align: right;\n",
       "    }\n",
       "</style>\n",
       "<table border=\"1\" class=\"dataframe\">\n",
       "  <thead>\n",
       "    <tr style=\"text-align: right;\">\n",
       "      <th></th>\n",
       "      <th>ride_id</th>\n",
       "      <th>rideable_type</th>\n",
       "      <th>started_at</th>\n",
       "      <th>ended_at</th>\n",
       "      <th>start_station_name</th>\n",
       "      <th>start_station_id</th>\n",
       "      <th>end_station_name</th>\n",
       "      <th>end_station_id</th>\n",
       "      <th>start_lat</th>\n",
       "      <th>start_lng</th>\n",
       "      <th>end_lat</th>\n",
       "      <th>end_lng</th>\n",
       "      <th>member_casual</th>\n",
       "      <th>source_file_name</th>\n",
       "    </tr>\n",
       "  </thead>\n",
       "  <tbody>\n",
       "    <tr>\n",
       "      <th>0</th>\n",
       "      <td>E19E6F1B8D4C42ED</td>\n",
       "      <td>electric_bike</td>\n",
       "      <td>2021-01-23 16:14:19</td>\n",
       "      <td>2021-01-23 16:24:44</td>\n",
       "      <td>California Ave &amp; Cortez St</td>\n",
       "      <td>17660</td>\n",
       "      <td>NaN</td>\n",
       "      <td>NaN</td>\n",
       "      <td>41.900341</td>\n",
       "      <td>-87.696743</td>\n",
       "      <td>41.890000</td>\n",
       "      <td>-87.720000</td>\n",
       "      <td>member</td>\n",
       "      <td>202101.csv</td>\n",
       "    </tr>\n",
       "    <tr>\n",
       "      <th>1</th>\n",
       "      <td>DC88F20C2C55F27F</td>\n",
       "      <td>electric_bike</td>\n",
       "      <td>2021-01-27 18:43:08</td>\n",
       "      <td>2021-01-27 18:47:12</td>\n",
       "      <td>California Ave &amp; Cortez St</td>\n",
       "      <td>17660</td>\n",
       "      <td>NaN</td>\n",
       "      <td>NaN</td>\n",
       "      <td>41.900333</td>\n",
       "      <td>-87.696707</td>\n",
       "      <td>41.900000</td>\n",
       "      <td>-87.690000</td>\n",
       "      <td>member</td>\n",
       "      <td>202101.csv</td>\n",
       "    </tr>\n",
       "    <tr>\n",
       "      <th>2</th>\n",
       "      <td>EC45C94683FE3F27</td>\n",
       "      <td>electric_bike</td>\n",
       "      <td>2021-01-21 22:35:54</td>\n",
       "      <td>2021-01-21 22:37:14</td>\n",
       "      <td>California Ave &amp; Cortez St</td>\n",
       "      <td>17660</td>\n",
       "      <td>NaN</td>\n",
       "      <td>NaN</td>\n",
       "      <td>41.900313</td>\n",
       "      <td>-87.696643</td>\n",
       "      <td>41.900000</td>\n",
       "      <td>-87.700000</td>\n",
       "      <td>member</td>\n",
       "      <td>202101.csv</td>\n",
       "    </tr>\n",
       "    <tr>\n",
       "      <th>3</th>\n",
       "      <td>4FA453A75AE377DB</td>\n",
       "      <td>electric_bike</td>\n",
       "      <td>2021-01-07 13:31:13</td>\n",
       "      <td>2021-01-07 13:42:55</td>\n",
       "      <td>California Ave &amp; Cortez St</td>\n",
       "      <td>17660</td>\n",
       "      <td>NaN</td>\n",
       "      <td>NaN</td>\n",
       "      <td>41.900399</td>\n",
       "      <td>-87.696662</td>\n",
       "      <td>41.920000</td>\n",
       "      <td>-87.690000</td>\n",
       "      <td>member</td>\n",
       "      <td>202101.csv</td>\n",
       "    </tr>\n",
       "    <tr>\n",
       "      <th>4</th>\n",
       "      <td>BE5E8EB4E7263A0B</td>\n",
       "      <td>electric_bike</td>\n",
       "      <td>2021-01-23 02:24:02</td>\n",
       "      <td>2021-01-23 02:24:45</td>\n",
       "      <td>California Ave &amp; Cortez St</td>\n",
       "      <td>17660</td>\n",
       "      <td>NaN</td>\n",
       "      <td>NaN</td>\n",
       "      <td>41.900326</td>\n",
       "      <td>-87.696697</td>\n",
       "      <td>41.900000</td>\n",
       "      <td>-87.700000</td>\n",
       "      <td>casual</td>\n",
       "      <td>202101.csv</td>\n",
       "    </tr>\n",
       "    <tr>\n",
       "      <th>...</th>\n",
       "      <td>...</td>\n",
       "      <td>...</td>\n",
       "      <td>...</td>\n",
       "      <td>...</td>\n",
       "      <td>...</td>\n",
       "      <td>...</td>\n",
       "      <td>...</td>\n",
       "      <td>...</td>\n",
       "      <td>...</td>\n",
       "      <td>...</td>\n",
       "      <td>...</td>\n",
       "      <td>...</td>\n",
       "      <td>...</td>\n",
       "      <td>...</td>\n",
       "    </tr>\n",
       "    <tr>\n",
       "      <th>247535</th>\n",
       "      <td>847431F3D5353AB7</td>\n",
       "      <td>electric_bike</td>\n",
       "      <td>2021-12-12 13:36:55</td>\n",
       "      <td>2021-12-12 13:56:08</td>\n",
       "      <td>Canal St &amp; Madison St</td>\n",
       "      <td>13341</td>\n",
       "      <td>NaN</td>\n",
       "      <td>NaN</td>\n",
       "      <td>41.882289</td>\n",
       "      <td>-87.639752</td>\n",
       "      <td>41.890000</td>\n",
       "      <td>-87.610000</td>\n",
       "      <td>casual</td>\n",
       "      <td>202112.csv</td>\n",
       "    </tr>\n",
       "    <tr>\n",
       "      <th>247536</th>\n",
       "      <td>CF407BBC3B9FAD63</td>\n",
       "      <td>electric_bike</td>\n",
       "      <td>2021-12-06 19:37:50</td>\n",
       "      <td>2021-12-06 19:44:51</td>\n",
       "      <td>Canal St &amp; Madison St</td>\n",
       "      <td>13341</td>\n",
       "      <td>Kingsbury St &amp; Kinzie St</td>\n",
       "      <td>KA1503000043</td>\n",
       "      <td>41.882123</td>\n",
       "      <td>-87.640053</td>\n",
       "      <td>41.889106</td>\n",
       "      <td>-87.638862</td>\n",
       "      <td>member</td>\n",
       "      <td>202112.csv</td>\n",
       "    </tr>\n",
       "    <tr>\n",
       "      <th>247537</th>\n",
       "      <td>60BB69EBF5440E92</td>\n",
       "      <td>electric_bike</td>\n",
       "      <td>2021-12-02 08:57:04</td>\n",
       "      <td>2021-12-02 09:05:21</td>\n",
       "      <td>Canal St &amp; Madison St</td>\n",
       "      <td>13341</td>\n",
       "      <td>Dearborn St &amp; Monroe St</td>\n",
       "      <td>TA1305000006</td>\n",
       "      <td>41.881956</td>\n",
       "      <td>-87.639955</td>\n",
       "      <td>41.880254</td>\n",
       "      <td>-87.629603</td>\n",
       "      <td>member</td>\n",
       "      <td>202112.csv</td>\n",
       "    </tr>\n",
       "    <tr>\n",
       "      <th>247538</th>\n",
       "      <td>C414F654A28635B8</td>\n",
       "      <td>electric_bike</td>\n",
       "      <td>2021-12-13 09:00:26</td>\n",
       "      <td>2021-12-13 09:14:39</td>\n",
       "      <td>Lawndale Ave &amp; 16th St</td>\n",
       "      <td>362.0</td>\n",
       "      <td>NaN</td>\n",
       "      <td>NaN</td>\n",
       "      <td>41.860000</td>\n",
       "      <td>-87.720000</td>\n",
       "      <td>41.850000</td>\n",
       "      <td>-87.710000</td>\n",
       "      <td>member</td>\n",
       "      <td>202112.csv</td>\n",
       "    </tr>\n",
       "    <tr>\n",
       "      <th>247539</th>\n",
       "      <td>37AC57E34B2E7E97</td>\n",
       "      <td>classic_bike</td>\n",
       "      <td>2021-12-13 08:45:32</td>\n",
       "      <td>2021-12-13 08:49:09</td>\n",
       "      <td>Michigan Ave &amp; Jackson Blvd</td>\n",
       "      <td>TA1309000002</td>\n",
       "      <td>Dearborn St &amp; Monroe St</td>\n",
       "      <td>TA1305000006</td>\n",
       "      <td>41.877850</td>\n",
       "      <td>-87.624080</td>\n",
       "      <td>41.881320</td>\n",
       "      <td>-87.629521</td>\n",
       "      <td>member</td>\n",
       "      <td>202112.csv</td>\n",
       "    </tr>\n",
       "  </tbody>\n",
       "</table>\n",
       "<p>5595063 rows × 14 columns</p>\n",
       "</div>"
      ],
      "text/plain": [
       "                 ride_id  rideable_type           started_at  \\\n",
       "0       E19E6F1B8D4C42ED  electric_bike  2021-01-23 16:14:19   \n",
       "1       DC88F20C2C55F27F  electric_bike  2021-01-27 18:43:08   \n",
       "2       EC45C94683FE3F27  electric_bike  2021-01-21 22:35:54   \n",
       "3       4FA453A75AE377DB  electric_bike  2021-01-07 13:31:13   \n",
       "4       BE5E8EB4E7263A0B  electric_bike  2021-01-23 02:24:02   \n",
       "...                  ...            ...                  ...   \n",
       "247535  847431F3D5353AB7  electric_bike  2021-12-12 13:36:55   \n",
       "247536  CF407BBC3B9FAD63  electric_bike  2021-12-06 19:37:50   \n",
       "247537  60BB69EBF5440E92  electric_bike  2021-12-02 08:57:04   \n",
       "247538  C414F654A28635B8  electric_bike  2021-12-13 09:00:26   \n",
       "247539  37AC57E34B2E7E97   classic_bike  2021-12-13 08:45:32   \n",
       "\n",
       "                   ended_at           start_station_name start_station_id  \\\n",
       "0       2021-01-23 16:24:44   California Ave & Cortez St            17660   \n",
       "1       2021-01-27 18:47:12   California Ave & Cortez St            17660   \n",
       "2       2021-01-21 22:37:14   California Ave & Cortez St            17660   \n",
       "3       2021-01-07 13:42:55   California Ave & Cortez St            17660   \n",
       "4       2021-01-23 02:24:45   California Ave & Cortez St            17660   \n",
       "...                     ...                          ...              ...   \n",
       "247535  2021-12-12 13:56:08        Canal St & Madison St            13341   \n",
       "247536  2021-12-06 19:44:51        Canal St & Madison St            13341   \n",
       "247537  2021-12-02 09:05:21        Canal St & Madison St            13341   \n",
       "247538  2021-12-13 09:14:39       Lawndale Ave & 16th St            362.0   \n",
       "247539  2021-12-13 08:49:09  Michigan Ave & Jackson Blvd     TA1309000002   \n",
       "\n",
       "                end_station_name end_station_id  start_lat  start_lng  \\\n",
       "0                            NaN            NaN  41.900341 -87.696743   \n",
       "1                            NaN            NaN  41.900333 -87.696707   \n",
       "2                            NaN            NaN  41.900313 -87.696643   \n",
       "3                            NaN            NaN  41.900399 -87.696662   \n",
       "4                            NaN            NaN  41.900326 -87.696697   \n",
       "...                          ...            ...        ...        ...   \n",
       "247535                       NaN            NaN  41.882289 -87.639752   \n",
       "247536  Kingsbury St & Kinzie St   KA1503000043  41.882123 -87.640053   \n",
       "247537   Dearborn St & Monroe St   TA1305000006  41.881956 -87.639955   \n",
       "247538                       NaN            NaN  41.860000 -87.720000   \n",
       "247539   Dearborn St & Monroe St   TA1305000006  41.877850 -87.624080   \n",
       "\n",
       "          end_lat    end_lng member_casual source_file_name  \n",
       "0       41.890000 -87.720000        member       202101.csv  \n",
       "1       41.900000 -87.690000        member       202101.csv  \n",
       "2       41.900000 -87.700000        member       202101.csv  \n",
       "3       41.920000 -87.690000        member       202101.csv  \n",
       "4       41.900000 -87.700000        casual       202101.csv  \n",
       "...           ...        ...           ...              ...  \n",
       "247535  41.890000 -87.610000        casual       202112.csv  \n",
       "247536  41.889106 -87.638862        member       202112.csv  \n",
       "247537  41.880254 -87.629603        member       202112.csv  \n",
       "247538  41.850000 -87.710000        member       202112.csv  \n",
       "247539  41.881320 -87.629521        member       202112.csv  \n",
       "\n",
       "[5595063 rows x 14 columns]"
      ]
     },
     "execution_count": 13,
     "metadata": {},
     "output_type": "execute_result"
    }
   ],
   "source": [
    "%%time\n",
    "merged_data = pd.concat(pd.read_csv(file).assign(source_file_name = file) for file in data_file)\n",
    "merged_data"
   ]
  },
  {
   "cell_type": "markdown",
   "id": "7a19c318",
   "metadata": {},
   "source": [
    "# changing data types to desired format"
   ]
  },
  {
   "cell_type": "code",
   "execution_count": 17,
   "id": "ef623ef7",
   "metadata": {},
   "outputs": [],
   "source": [
    "merged_data['started_at'] = pd.to_datetime(merged_data.started_at)"
   ]
  },
  {
   "cell_type": "code",
   "execution_count": 19,
   "id": "1619b798",
   "metadata": {},
   "outputs": [],
   "source": [
    "merged_data['ended_at'] = pd.to_datetime(merged_data.ended_at)"
   ]
  },
  {
   "cell_type": "code",
   "execution_count": 21,
   "id": "2a6ae4f9",
   "metadata": {},
   "outputs": [],
   "source": [
    "merged_data['ride_length'] = merged_data['ended_at'] - merged_data['started_at']"
   ]
  },
  {
   "cell_type": "code",
   "execution_count": 23,
   "id": "5f30f490",
   "metadata": {},
   "outputs": [],
   "source": [
    "merged_data['weekday'] = pd.DatetimeIndex(merged_data['started_at']).weekday"
   ]
  },
  {
   "cell_type": "code",
   "execution_count": 27,
   "id": "249ed4de",
   "metadata": {},
   "outputs": [
    {
     "name": "stdout",
     "output_type": "stream",
     "text": [
      "<class 'pandas.core.frame.DataFrame'>\n",
      "Int64Index: 5595063 entries, 0 to 247539\n",
      "Data columns (total 16 columns):\n",
      " #   Column              Dtype          \n",
      "---  ------              -----          \n",
      " 0   ride_id             object         \n",
      " 1   rideable_type       object         \n",
      " 2   started_at          datetime64[ns] \n",
      " 3   ended_at            datetime64[ns] \n",
      " 4   start_station_name  object         \n",
      " 5   start_station_id    object         \n",
      " 6   end_station_name    object         \n",
      " 7   end_station_id      object         \n",
      " 8   start_lat           float64        \n",
      " 9   start_lng           float64        \n",
      " 10  end_lat             float64        \n",
      " 11  end_lng             float64        \n",
      " 12  member_casual       object         \n",
      " 13  source_file_name    object         \n",
      " 14  ride_length         timedelta64[ns]\n",
      " 15  weekday             int64          \n",
      "dtypes: datetime64[ns](2), float64(4), int64(1), object(8), timedelta64[ns](1)\n",
      "memory usage: 725.7+ MB\n"
     ]
    }
   ],
   "source": [
    "merged_data.info()"
   ]
  },
  {
   "cell_type": "code",
   "execution_count": 4,
   "id": "2c2543d0",
   "metadata": {},
   "outputs": [],
   "source": [
    "# this works while working with numpy arrays to convert scientific notation to float.\n",
    "np.set_printoptions(suppress=True)"
   ]
  },
  {
   "cell_type": "code",
   "execution_count": 5,
   "id": "df6a9663",
   "metadata": {},
   "outputs": [],
   "source": [
    "# this works while working with pandas dataframe to convert scientific notation to float.\n",
    "pd.options.display.float_format = '{:.2f}'.format"
   ]
  },
  {
   "cell_type": "code",
   "execution_count": 34,
   "id": "e1e82520",
   "metadata": {},
   "outputs": [
    {
     "data": {
      "text/html": [
       "<div>\n",
       "<style scoped>\n",
       "    .dataframe tbody tr th:only-of-type {\n",
       "        vertical-align: middle;\n",
       "    }\n",
       "\n",
       "    .dataframe tbody tr th {\n",
       "        vertical-align: top;\n",
       "    }\n",
       "\n",
       "    .dataframe thead th {\n",
       "        text-align: right;\n",
       "    }\n",
       "</style>\n",
       "<table border=\"1\" class=\"dataframe\">\n",
       "  <thead>\n",
       "    <tr style=\"text-align: right;\">\n",
       "      <th></th>\n",
       "      <th>start_lat</th>\n",
       "      <th>start_lng</th>\n",
       "      <th>end_lat</th>\n",
       "      <th>end_lng</th>\n",
       "      <th>ride_length</th>\n",
       "      <th>weekday</th>\n",
       "    </tr>\n",
       "  </thead>\n",
       "  <tbody>\n",
       "    <tr>\n",
       "      <th>count</th>\n",
       "      <td>5595063.00</td>\n",
       "      <td>5595063.00</td>\n",
       "      <td>5590292.00</td>\n",
       "      <td>5590292.00</td>\n",
       "      <td>5595063</td>\n",
       "      <td>5595063.00</td>\n",
       "    </tr>\n",
       "    <tr>\n",
       "      <th>mean</th>\n",
       "      <td>41.90</td>\n",
       "      <td>-87.65</td>\n",
       "      <td>41.90</td>\n",
       "      <td>-87.65</td>\n",
       "      <td>0 days 00:21:56.120689615</td>\n",
       "      <td>3.18</td>\n",
       "    </tr>\n",
       "    <tr>\n",
       "      <th>std</th>\n",
       "      <td>0.05</td>\n",
       "      <td>0.03</td>\n",
       "      <td>0.05</td>\n",
       "      <td>0.03</td>\n",
       "      <td>0 days 02:58:20.085105105</td>\n",
       "      <td>2.00</td>\n",
       "    </tr>\n",
       "    <tr>\n",
       "      <th>min</th>\n",
       "      <td>41.64</td>\n",
       "      <td>-87.84</td>\n",
       "      <td>41.39</td>\n",
       "      <td>-88.97</td>\n",
       "      <td>-1 days +23:01:58</td>\n",
       "      <td>0.00</td>\n",
       "    </tr>\n",
       "    <tr>\n",
       "      <th>25%</th>\n",
       "      <td>41.88</td>\n",
       "      <td>-87.66</td>\n",
       "      <td>41.88</td>\n",
       "      <td>-87.66</td>\n",
       "      <td>0 days 00:06:45</td>\n",
       "      <td>1.00</td>\n",
       "    </tr>\n",
       "    <tr>\n",
       "      <th>50%</th>\n",
       "      <td>41.90</td>\n",
       "      <td>-87.64</td>\n",
       "      <td>41.90</td>\n",
       "      <td>-87.64</td>\n",
       "      <td>0 days 00:12:00</td>\n",
       "      <td>3.00</td>\n",
       "    </tr>\n",
       "    <tr>\n",
       "      <th>75%</th>\n",
       "      <td>41.93</td>\n",
       "      <td>-87.63</td>\n",
       "      <td>41.93</td>\n",
       "      <td>-87.63</td>\n",
       "      <td>0 days 00:21:47</td>\n",
       "      <td>5.00</td>\n",
       "    </tr>\n",
       "    <tr>\n",
       "      <th>max</th>\n",
       "      <td>42.07</td>\n",
       "      <td>-87.52</td>\n",
       "      <td>42.17</td>\n",
       "      <td>-87.49</td>\n",
       "      <td>38 days 20:24:09</td>\n",
       "      <td>6.00</td>\n",
       "    </tr>\n",
       "  </tbody>\n",
       "</table>\n",
       "</div>"
      ],
      "text/plain": [
       "       start_lat  start_lng    end_lat    end_lng                ride_length  \\\n",
       "count 5595063.00 5595063.00 5590292.00 5590292.00                    5595063   \n",
       "mean       41.90     -87.65      41.90     -87.65  0 days 00:21:56.120689615   \n",
       "std         0.05       0.03       0.05       0.03  0 days 02:58:20.085105105   \n",
       "min        41.64     -87.84      41.39     -88.97          -1 days +23:01:58   \n",
       "25%        41.88     -87.66      41.88     -87.66            0 days 00:06:45   \n",
       "50%        41.90     -87.64      41.90     -87.64            0 days 00:12:00   \n",
       "75%        41.93     -87.63      41.93     -87.63            0 days 00:21:47   \n",
       "max        42.07     -87.52      42.17     -87.49           38 days 20:24:09   \n",
       "\n",
       "         weekday  \n",
       "count 5595063.00  \n",
       "mean        3.18  \n",
       "std         2.00  \n",
       "min         0.00  \n",
       "25%         1.00  \n",
       "50%         3.00  \n",
       "75%         5.00  \n",
       "max         6.00  "
      ]
     },
     "execution_count": 34,
     "metadata": {},
     "output_type": "execute_result"
    }
   ],
   "source": [
    "merged_data.describe()"
   ]
  },
  {
   "cell_type": "code",
   "execution_count": 39,
   "id": "fbc495ed",
   "metadata": {},
   "outputs": [],
   "source": [
    "# resetting index for merged dataset.\n",
    "merged_data = merged_data.reset_index(drop= True)"
   ]
  },
  {
   "cell_type": "code",
   "execution_count": 41,
   "id": "74ab8e50",
   "metadata": {},
   "outputs": [
    {
     "data": {
      "text/plain": [
       "RangeIndex(start=0, stop=5595063, step=1)"
      ]
     },
     "execution_count": 41,
     "metadata": {},
     "output_type": "execute_result"
    }
   ],
   "source": [
    "merged_data.index"
   ]
  },
  {
   "cell_type": "code",
   "execution_count": 42,
   "id": "94369ab7",
   "metadata": {},
   "outputs": [
    {
     "name": "stdout",
     "output_type": "stream",
     "text": [
      "Wall time: 1min 43s\n"
     ]
    }
   ],
   "source": [
    "%%time\n",
    "# saving processed data to csv.\n",
    "merged_data.to_csv('merged_data.csv')"
   ]
  },
  {
   "cell_type": "code",
   "execution_count": 2,
   "id": "12f30e37",
   "metadata": {},
   "outputs": [
    {
     "data": {
      "text/html": [
       "<div>\n",
       "<style scoped>\n",
       "    .dataframe tbody tr th:only-of-type {\n",
       "        vertical-align: middle;\n",
       "    }\n",
       "\n",
       "    .dataframe tbody tr th {\n",
       "        vertical-align: top;\n",
       "    }\n",
       "\n",
       "    .dataframe thead th {\n",
       "        text-align: right;\n",
       "    }\n",
       "</style>\n",
       "<table border=\"1\" class=\"dataframe\">\n",
       "  <thead>\n",
       "    <tr style=\"text-align: right;\">\n",
       "      <th></th>\n",
       "      <th>Unnamed: 0</th>\n",
       "      <th>ride_id</th>\n",
       "      <th>rideable_type</th>\n",
       "      <th>started_at</th>\n",
       "      <th>ended_at</th>\n",
       "      <th>start_station_name</th>\n",
       "      <th>start_station_id</th>\n",
       "      <th>end_station_name</th>\n",
       "      <th>end_station_id</th>\n",
       "      <th>start_lat</th>\n",
       "      <th>start_lng</th>\n",
       "      <th>end_lat</th>\n",
       "      <th>end_lng</th>\n",
       "      <th>member_casual</th>\n",
       "      <th>source_file_name</th>\n",
       "      <th>ride_length</th>\n",
       "      <th>weekday</th>\n",
       "    </tr>\n",
       "  </thead>\n",
       "  <tbody>\n",
       "    <tr>\n",
       "      <th>0</th>\n",
       "      <td>0</td>\n",
       "      <td>E19E6F1B8D4C42ED</td>\n",
       "      <td>electric_bike</td>\n",
       "      <td>2021-01-23 16:14:19</td>\n",
       "      <td>2021-01-23 16:24:44</td>\n",
       "      <td>California Ave &amp; Cortez St</td>\n",
       "      <td>17660</td>\n",
       "      <td>NaN</td>\n",
       "      <td>NaN</td>\n",
       "      <td>41.900341</td>\n",
       "      <td>-87.696743</td>\n",
       "      <td>41.89</td>\n",
       "      <td>-87.72</td>\n",
       "      <td>member</td>\n",
       "      <td>202101.csv</td>\n",
       "      <td>0 days 00:10:25</td>\n",
       "      <td>5</td>\n",
       "    </tr>\n",
       "    <tr>\n",
       "      <th>1</th>\n",
       "      <td>1</td>\n",
       "      <td>DC88F20C2C55F27F</td>\n",
       "      <td>electric_bike</td>\n",
       "      <td>2021-01-27 18:43:08</td>\n",
       "      <td>2021-01-27 18:47:12</td>\n",
       "      <td>California Ave &amp; Cortez St</td>\n",
       "      <td>17660</td>\n",
       "      <td>NaN</td>\n",
       "      <td>NaN</td>\n",
       "      <td>41.900333</td>\n",
       "      <td>-87.696707</td>\n",
       "      <td>41.90</td>\n",
       "      <td>-87.69</td>\n",
       "      <td>member</td>\n",
       "      <td>202101.csv</td>\n",
       "      <td>0 days 00:04:04</td>\n",
       "      <td>2</td>\n",
       "    </tr>\n",
       "    <tr>\n",
       "      <th>2</th>\n",
       "      <td>2</td>\n",
       "      <td>EC45C94683FE3F27</td>\n",
       "      <td>electric_bike</td>\n",
       "      <td>2021-01-21 22:35:54</td>\n",
       "      <td>2021-01-21 22:37:14</td>\n",
       "      <td>California Ave &amp; Cortez St</td>\n",
       "      <td>17660</td>\n",
       "      <td>NaN</td>\n",
       "      <td>NaN</td>\n",
       "      <td>41.900313</td>\n",
       "      <td>-87.696643</td>\n",
       "      <td>41.90</td>\n",
       "      <td>-87.70</td>\n",
       "      <td>member</td>\n",
       "      <td>202101.csv</td>\n",
       "      <td>0 days 00:01:20</td>\n",
       "      <td>3</td>\n",
       "    </tr>\n",
       "    <tr>\n",
       "      <th>3</th>\n",
       "      <td>3</td>\n",
       "      <td>4FA453A75AE377DB</td>\n",
       "      <td>electric_bike</td>\n",
       "      <td>2021-01-07 13:31:13</td>\n",
       "      <td>2021-01-07 13:42:55</td>\n",
       "      <td>California Ave &amp; Cortez St</td>\n",
       "      <td>17660</td>\n",
       "      <td>NaN</td>\n",
       "      <td>NaN</td>\n",
       "      <td>41.900399</td>\n",
       "      <td>-87.696662</td>\n",
       "      <td>41.92</td>\n",
       "      <td>-87.69</td>\n",
       "      <td>member</td>\n",
       "      <td>202101.csv</td>\n",
       "      <td>0 days 00:11:42</td>\n",
       "      <td>3</td>\n",
       "    </tr>\n",
       "    <tr>\n",
       "      <th>4</th>\n",
       "      <td>4</td>\n",
       "      <td>BE5E8EB4E7263A0B</td>\n",
       "      <td>electric_bike</td>\n",
       "      <td>2021-01-23 02:24:02</td>\n",
       "      <td>2021-01-23 02:24:45</td>\n",
       "      <td>California Ave &amp; Cortez St</td>\n",
       "      <td>17660</td>\n",
       "      <td>NaN</td>\n",
       "      <td>NaN</td>\n",
       "      <td>41.900326</td>\n",
       "      <td>-87.696697</td>\n",
       "      <td>41.90</td>\n",
       "      <td>-87.70</td>\n",
       "      <td>casual</td>\n",
       "      <td>202101.csv</td>\n",
       "      <td>0 days 00:00:43</td>\n",
       "      <td>5</td>\n",
       "    </tr>\n",
       "  </tbody>\n",
       "</table>\n",
       "</div>"
      ],
      "text/plain": [
       "   Unnamed: 0           ride_id  rideable_type           started_at  \\\n",
       "0           0  E19E6F1B8D4C42ED  electric_bike  2021-01-23 16:14:19   \n",
       "1           1  DC88F20C2C55F27F  electric_bike  2021-01-27 18:43:08   \n",
       "2           2  EC45C94683FE3F27  electric_bike  2021-01-21 22:35:54   \n",
       "3           3  4FA453A75AE377DB  electric_bike  2021-01-07 13:31:13   \n",
       "4           4  BE5E8EB4E7263A0B  electric_bike  2021-01-23 02:24:02   \n",
       "\n",
       "              ended_at          start_station_name start_station_id  \\\n",
       "0  2021-01-23 16:24:44  California Ave & Cortez St            17660   \n",
       "1  2021-01-27 18:47:12  California Ave & Cortez St            17660   \n",
       "2  2021-01-21 22:37:14  California Ave & Cortez St            17660   \n",
       "3  2021-01-07 13:42:55  California Ave & Cortez St            17660   \n",
       "4  2021-01-23 02:24:45  California Ave & Cortez St            17660   \n",
       "\n",
       "  end_station_name end_station_id  start_lat  start_lng  end_lat  end_lng  \\\n",
       "0              NaN            NaN  41.900341 -87.696743    41.89   -87.72   \n",
       "1              NaN            NaN  41.900333 -87.696707    41.90   -87.69   \n",
       "2              NaN            NaN  41.900313 -87.696643    41.90   -87.70   \n",
       "3              NaN            NaN  41.900399 -87.696662    41.92   -87.69   \n",
       "4              NaN            NaN  41.900326 -87.696697    41.90   -87.70   \n",
       "\n",
       "  member_casual source_file_name      ride_length  weekday  \n",
       "0        member       202101.csv  0 days 00:10:25        5  \n",
       "1        member       202101.csv  0 days 00:04:04        2  \n",
       "2        member       202101.csv  0 days 00:01:20        3  \n",
       "3        member       202101.csv  0 days 00:11:42        3  \n",
       "4        casual       202101.csv  0 days 00:00:43        5  "
      ]
     },
     "execution_count": 2,
     "metadata": {},
     "output_type": "execute_result"
    }
   ],
   "source": [
    "data =pd.read_csv('merged_data.csv')\n",
    "data.head()"
   ]
  },
  {
   "cell_type": "code",
   "execution_count": 3,
   "id": "5ce0abb1",
   "metadata": {},
   "outputs": [
    {
     "name": "stdout",
     "output_type": "stream",
     "text": [
      "<class 'pandas.core.frame.DataFrame'>\n",
      "RangeIndex: 5595063 entries, 0 to 5595062\n",
      "Data columns (total 17 columns):\n",
      " #   Column              Dtype  \n",
      "---  ------              -----  \n",
      " 0   Unnamed: 0          int64  \n",
      " 1   ride_id             object \n",
      " 2   rideable_type       object \n",
      " 3   started_at          object \n",
      " 4   ended_at            object \n",
      " 5   start_station_name  object \n",
      " 6   start_station_id    object \n",
      " 7   end_station_name    object \n",
      " 8   end_station_id      object \n",
      " 9   start_lat           float64\n",
      " 10  start_lng           float64\n",
      " 11  end_lat             float64\n",
      " 12  end_lng             float64\n",
      " 13  member_casual       object \n",
      " 14  source_file_name    object \n",
      " 15  ride_length         object \n",
      " 16  weekday             int64  \n",
      "dtypes: float64(4), int64(2), object(11)\n",
      "memory usage: 725.7+ MB\n"
     ]
    }
   ],
   "source": [
    "data.info()"
   ]
  },
  {
   "cell_type": "code",
   "execution_count": 2,
   "id": "408b02de",
   "metadata": {},
   "outputs": [],
   "source": [
    "#upon reloading data we find that its data types changed to object type, so we will again convert it to desired data types."
   ]
  },
  {
   "cell_type": "code",
   "execution_count": 4,
   "id": "25182215",
   "metadata": {},
   "outputs": [],
   "source": [
    "data['started_at'] = pd.to_datetime(data.started_at)"
   ]
  },
  {
   "cell_type": "code",
   "execution_count": 5,
   "id": "517fca63",
   "metadata": {},
   "outputs": [],
   "source": [
    "data['ended_at'] = pd.to_datetime(data.ended_at)"
   ]
  },
  {
   "cell_type": "code",
   "execution_count": 6,
   "id": "7f513c6e",
   "metadata": {},
   "outputs": [],
   "source": [
    "data['ride_length'] = pd.to_timedelta(data.ride_length)"
   ]
  },
  {
   "cell_type": "code",
   "execution_count": 7,
   "id": "afee06e2",
   "metadata": {},
   "outputs": [],
   "source": [
    "data['month'] = pd.DatetimeIndex(data.started_at).month"
   ]
  },
  {
   "cell_type": "code",
   "execution_count": 8,
   "id": "8936a439",
   "metadata": {},
   "outputs": [],
   "source": [
    "# creating new column by ride_time converting ride_length column datatype to integer.\n",
    "\n",
    "data['ride_time'] = data['ride_length'].dt.total_seconds().div(60).astype(int)"
   ]
  },
  {
   "cell_type": "code",
   "execution_count": 9,
   "id": "8e03ef33",
   "metadata": {},
   "outputs": [
    {
     "data": {
      "text/html": [
       "<div>\n",
       "<style scoped>\n",
       "    .dataframe tbody tr th:only-of-type {\n",
       "        vertical-align: middle;\n",
       "    }\n",
       "\n",
       "    .dataframe tbody tr th {\n",
       "        vertical-align: top;\n",
       "    }\n",
       "\n",
       "    .dataframe thead th {\n",
       "        text-align: right;\n",
       "    }\n",
       "</style>\n",
       "<table border=\"1\" class=\"dataframe\">\n",
       "  <thead>\n",
       "    <tr style=\"text-align: right;\">\n",
       "      <th></th>\n",
       "      <th>Unnamed: 0</th>\n",
       "      <th>ride_id</th>\n",
       "      <th>rideable_type</th>\n",
       "      <th>started_at</th>\n",
       "      <th>ended_at</th>\n",
       "      <th>start_station_name</th>\n",
       "      <th>start_station_id</th>\n",
       "      <th>end_station_name</th>\n",
       "      <th>end_station_id</th>\n",
       "      <th>start_lat</th>\n",
       "      <th>start_lng</th>\n",
       "      <th>end_lat</th>\n",
       "      <th>end_lng</th>\n",
       "      <th>member_casual</th>\n",
       "      <th>source_file_name</th>\n",
       "      <th>ride_length</th>\n",
       "      <th>weekday</th>\n",
       "      <th>month</th>\n",
       "      <th>ride_time</th>\n",
       "    </tr>\n",
       "  </thead>\n",
       "  <tbody>\n",
       "    <tr>\n",
       "      <th>0</th>\n",
       "      <td>0</td>\n",
       "      <td>E19E6F1B8D4C42ED</td>\n",
       "      <td>electric_bike</td>\n",
       "      <td>2021-01-23 16:14:19</td>\n",
       "      <td>2021-01-23 16:24:44</td>\n",
       "      <td>California Ave &amp; Cortez St</td>\n",
       "      <td>17660</td>\n",
       "      <td>NaN</td>\n",
       "      <td>NaN</td>\n",
       "      <td>41.900341</td>\n",
       "      <td>-87.696743</td>\n",
       "      <td>41.89</td>\n",
       "      <td>-87.72</td>\n",
       "      <td>member</td>\n",
       "      <td>202101.csv</td>\n",
       "      <td>0 days 00:10:25</td>\n",
       "      <td>5</td>\n",
       "      <td>1</td>\n",
       "      <td>10</td>\n",
       "    </tr>\n",
       "    <tr>\n",
       "      <th>1</th>\n",
       "      <td>1</td>\n",
       "      <td>DC88F20C2C55F27F</td>\n",
       "      <td>electric_bike</td>\n",
       "      <td>2021-01-27 18:43:08</td>\n",
       "      <td>2021-01-27 18:47:12</td>\n",
       "      <td>California Ave &amp; Cortez St</td>\n",
       "      <td>17660</td>\n",
       "      <td>NaN</td>\n",
       "      <td>NaN</td>\n",
       "      <td>41.900333</td>\n",
       "      <td>-87.696707</td>\n",
       "      <td>41.90</td>\n",
       "      <td>-87.69</td>\n",
       "      <td>member</td>\n",
       "      <td>202101.csv</td>\n",
       "      <td>0 days 00:04:04</td>\n",
       "      <td>2</td>\n",
       "      <td>1</td>\n",
       "      <td>4</td>\n",
       "    </tr>\n",
       "    <tr>\n",
       "      <th>2</th>\n",
       "      <td>2</td>\n",
       "      <td>EC45C94683FE3F27</td>\n",
       "      <td>electric_bike</td>\n",
       "      <td>2021-01-21 22:35:54</td>\n",
       "      <td>2021-01-21 22:37:14</td>\n",
       "      <td>California Ave &amp; Cortez St</td>\n",
       "      <td>17660</td>\n",
       "      <td>NaN</td>\n",
       "      <td>NaN</td>\n",
       "      <td>41.900313</td>\n",
       "      <td>-87.696643</td>\n",
       "      <td>41.90</td>\n",
       "      <td>-87.70</td>\n",
       "      <td>member</td>\n",
       "      <td>202101.csv</td>\n",
       "      <td>0 days 00:01:20</td>\n",
       "      <td>3</td>\n",
       "      <td>1</td>\n",
       "      <td>1</td>\n",
       "    </tr>\n",
       "    <tr>\n",
       "      <th>3</th>\n",
       "      <td>3</td>\n",
       "      <td>4FA453A75AE377DB</td>\n",
       "      <td>electric_bike</td>\n",
       "      <td>2021-01-07 13:31:13</td>\n",
       "      <td>2021-01-07 13:42:55</td>\n",
       "      <td>California Ave &amp; Cortez St</td>\n",
       "      <td>17660</td>\n",
       "      <td>NaN</td>\n",
       "      <td>NaN</td>\n",
       "      <td>41.900399</td>\n",
       "      <td>-87.696662</td>\n",
       "      <td>41.92</td>\n",
       "      <td>-87.69</td>\n",
       "      <td>member</td>\n",
       "      <td>202101.csv</td>\n",
       "      <td>0 days 00:11:42</td>\n",
       "      <td>3</td>\n",
       "      <td>1</td>\n",
       "      <td>11</td>\n",
       "    </tr>\n",
       "    <tr>\n",
       "      <th>4</th>\n",
       "      <td>4</td>\n",
       "      <td>BE5E8EB4E7263A0B</td>\n",
       "      <td>electric_bike</td>\n",
       "      <td>2021-01-23 02:24:02</td>\n",
       "      <td>2021-01-23 02:24:45</td>\n",
       "      <td>California Ave &amp; Cortez St</td>\n",
       "      <td>17660</td>\n",
       "      <td>NaN</td>\n",
       "      <td>NaN</td>\n",
       "      <td>41.900326</td>\n",
       "      <td>-87.696697</td>\n",
       "      <td>41.90</td>\n",
       "      <td>-87.70</td>\n",
       "      <td>casual</td>\n",
       "      <td>202101.csv</td>\n",
       "      <td>0 days 00:00:43</td>\n",
       "      <td>5</td>\n",
       "      <td>1</td>\n",
       "      <td>0</td>\n",
       "    </tr>\n",
       "  </tbody>\n",
       "</table>\n",
       "</div>"
      ],
      "text/plain": [
       "   Unnamed: 0           ride_id  rideable_type          started_at  \\\n",
       "0           0  E19E6F1B8D4C42ED  electric_bike 2021-01-23 16:14:19   \n",
       "1           1  DC88F20C2C55F27F  electric_bike 2021-01-27 18:43:08   \n",
       "2           2  EC45C94683FE3F27  electric_bike 2021-01-21 22:35:54   \n",
       "3           3  4FA453A75AE377DB  electric_bike 2021-01-07 13:31:13   \n",
       "4           4  BE5E8EB4E7263A0B  electric_bike 2021-01-23 02:24:02   \n",
       "\n",
       "             ended_at          start_station_name start_station_id  \\\n",
       "0 2021-01-23 16:24:44  California Ave & Cortez St            17660   \n",
       "1 2021-01-27 18:47:12  California Ave & Cortez St            17660   \n",
       "2 2021-01-21 22:37:14  California Ave & Cortez St            17660   \n",
       "3 2021-01-07 13:42:55  California Ave & Cortez St            17660   \n",
       "4 2021-01-23 02:24:45  California Ave & Cortez St            17660   \n",
       "\n",
       "  end_station_name end_station_id  start_lat  start_lng  end_lat  end_lng  \\\n",
       "0              NaN            NaN  41.900341 -87.696743    41.89   -87.72   \n",
       "1              NaN            NaN  41.900333 -87.696707    41.90   -87.69   \n",
       "2              NaN            NaN  41.900313 -87.696643    41.90   -87.70   \n",
       "3              NaN            NaN  41.900399 -87.696662    41.92   -87.69   \n",
       "4              NaN            NaN  41.900326 -87.696697    41.90   -87.70   \n",
       "\n",
       "  member_casual source_file_name     ride_length  weekday  month  ride_time  \n",
       "0        member       202101.csv 0 days 00:10:25        5      1         10  \n",
       "1        member       202101.csv 0 days 00:04:04        2      1          4  \n",
       "2        member       202101.csv 0 days 00:01:20        3      1          1  \n",
       "3        member       202101.csv 0 days 00:11:42        3      1         11  \n",
       "4        casual       202101.csv 0 days 00:00:43        5      1          0  "
      ]
     },
     "execution_count": 9,
     "metadata": {},
     "output_type": "execute_result"
    }
   ],
   "source": [
    "data.head()"
   ]
  },
  {
   "cell_type": "code",
   "execution_count": 10,
   "id": "7433a67f",
   "metadata": {},
   "outputs": [],
   "source": [
    "# dropping columns which are not required.\n",
    "data = data.drop(columns=['Unnamed: 0','start_lat','start_lng','end_lat','end_lng','source_file_name'])"
   ]
  },
  {
   "cell_type": "code",
   "execution_count": 11,
   "id": "63ec4294",
   "metadata": {},
   "outputs": [
    {
     "name": "stdout",
     "output_type": "stream",
     "text": [
      "<class 'pandas.core.frame.DataFrame'>\n",
      "RangeIndex: 5595063 entries, 0 to 5595062\n",
      "Data columns (total 13 columns):\n",
      " #   Column              Dtype          \n",
      "---  ------              -----          \n",
      " 0   ride_id             object         \n",
      " 1   rideable_type       object         \n",
      " 2   started_at          datetime64[ns] \n",
      " 3   ended_at            datetime64[ns] \n",
      " 4   start_station_name  object         \n",
      " 5   start_station_id    object         \n",
      " 6   end_station_name    object         \n",
      " 7   end_station_id      object         \n",
      " 8   member_casual       object         \n",
      " 9   ride_length         timedelta64[ns]\n",
      " 10  weekday             int64          \n",
      " 11  month               int64          \n",
      " 12  ride_time           int32          \n",
      "dtypes: datetime64[ns](2), int32(1), int64(2), object(7), timedelta64[ns](1)\n",
      "memory usage: 533.6+ MB\n"
     ]
    }
   ],
   "source": [
    "data.info()"
   ]
  },
  {
   "cell_type": "code",
   "execution_count": 16,
   "id": "2b98471a",
   "metadata": {},
   "outputs": [
    {
     "data": {
      "text/html": [
       "<div>\n",
       "<style scoped>\n",
       "    .dataframe tbody tr th:only-of-type {\n",
       "        vertical-align: middle;\n",
       "    }\n",
       "\n",
       "    .dataframe tbody tr th {\n",
       "        vertical-align: top;\n",
       "    }\n",
       "\n",
       "    .dataframe thead th {\n",
       "        text-align: right;\n",
       "    }\n",
       "</style>\n",
       "<table border=\"1\" class=\"dataframe\">\n",
       "  <thead>\n",
       "    <tr style=\"text-align: right;\">\n",
       "      <th></th>\n",
       "      <th>ride_length</th>\n",
       "      <th>weekday</th>\n",
       "      <th>month</th>\n",
       "      <th>ride_time</th>\n",
       "    </tr>\n",
       "  </thead>\n",
       "  <tbody>\n",
       "    <tr>\n",
       "      <th>count</th>\n",
       "      <td>5595063</td>\n",
       "      <td>5595063.00</td>\n",
       "      <td>5595063.00</td>\n",
       "      <td>5595063.00</td>\n",
       "    </tr>\n",
       "    <tr>\n",
       "      <th>mean</th>\n",
       "      <td>0 days 00:21:56.120689615</td>\n",
       "      <td>3.18</td>\n",
       "      <td>7.42</td>\n",
       "      <td>21.45</td>\n",
       "    </tr>\n",
       "    <tr>\n",
       "      <th>std</th>\n",
       "      <td>0 days 02:58:20.085105105</td>\n",
       "      <td>2.00</td>\n",
       "      <td>2.49</td>\n",
       "      <td>178.33</td>\n",
       "    </tr>\n",
       "    <tr>\n",
       "      <th>min</th>\n",
       "      <td>-1 days +23:01:58</td>\n",
       "      <td>0.00</td>\n",
       "      <td>1.00</td>\n",
       "      <td>-58.00</td>\n",
       "    </tr>\n",
       "    <tr>\n",
       "      <th>25%</th>\n",
       "      <td>0 days 00:06:45</td>\n",
       "      <td>1.00</td>\n",
       "      <td>6.00</td>\n",
       "      <td>6.00</td>\n",
       "    </tr>\n",
       "    <tr>\n",
       "      <th>50%</th>\n",
       "      <td>0 days 00:12:00</td>\n",
       "      <td>3.00</td>\n",
       "      <td>8.00</td>\n",
       "      <td>12.00</td>\n",
       "    </tr>\n",
       "    <tr>\n",
       "      <th>75%</th>\n",
       "      <td>0 days 00:21:47</td>\n",
       "      <td>5.00</td>\n",
       "      <td>9.00</td>\n",
       "      <td>21.00</td>\n",
       "    </tr>\n",
       "    <tr>\n",
       "      <th>max</th>\n",
       "      <td>38 days 20:24:09</td>\n",
       "      <td>6.00</td>\n",
       "      <td>12.00</td>\n",
       "      <td>55944.00</td>\n",
       "    </tr>\n",
       "  </tbody>\n",
       "</table>\n",
       "</div>"
      ],
      "text/plain": [
       "                     ride_length    weekday      month  ride_time\n",
       "count                    5595063 5595063.00 5595063.00 5595063.00\n",
       "mean   0 days 00:21:56.120689615       3.18       7.42      21.45\n",
       "std    0 days 02:58:20.085105105       2.00       2.49     178.33\n",
       "min            -1 days +23:01:58       0.00       1.00     -58.00\n",
       "25%              0 days 00:06:45       1.00       6.00       6.00\n",
       "50%              0 days 00:12:00       3.00       8.00      12.00\n",
       "75%              0 days 00:21:47       5.00       9.00      21.00\n",
       "max             38 days 20:24:09       6.00      12.00   55944.00"
      ]
     },
     "execution_count": 16,
     "metadata": {},
     "output_type": "execute_result"
    }
   ],
   "source": [
    "data.describe()"
   ]
  },
  {
   "cell_type": "code",
   "execution_count": 17,
   "id": "cb43dbee",
   "metadata": {},
   "outputs": [
    {
     "name": "stdout",
     "output_type": "stream",
     "text": [
      "Wall time: 1min 18s\n"
     ]
    }
   ],
   "source": [
    "%%time\n",
    "data.to_csv('final_data.csv')"
   ]
  },
  {
   "cell_type": "markdown",
   "id": "2d8faf7a",
   "metadata": {},
   "source": [
    "# Let's analyse dataset"
   ]
  },
  {
   "cell_type": "code",
   "execution_count": 19,
   "id": "56371ed0",
   "metadata": {},
   "outputs": [],
   "source": [
    "import matplotlib.pyplot as plt\n",
    "import seaborn as sns"
   ]
  },
  {
   "cell_type": "code",
   "execution_count": 36,
   "id": "efb5c9bd",
   "metadata": {},
   "outputs": [
    {
     "data": {
      "text/plain": [
       "<AxesSubplot:>"
      ]
     },
     "execution_count": 36,
     "metadata": {},
     "output_type": "execute_result"
    },
    {
     "data": {
      "image/png": "[encoded data removed]",
      "text/plain": [
       "<Figure size 432x288 with 2 Axes>"
      ]
     },
     "metadata": {
      "needs_background": "light"
     },
     "output_type": "display_data"
    }
   ],
   "source": [
    "sns.heatmap(data.corr())"
   ]
  },
  {
   "cell_type": "markdown",
   "id": "df9978b2",
   "metadata": {},
   "source": [
    "as we can see there is no corelation between variables in our data."
   ]
  },
  {
   "cell_type": "code",
   "execution_count": 37,
   "id": "8c41f93b",
   "metadata": {},
   "outputs": [
    {
     "data": {
      "text/html": [
       "<div>\n",
       "<style scoped>\n",
       "    .dataframe tbody tr th:only-of-type {\n",
       "        vertical-align: middle;\n",
       "    }\n",
       "\n",
       "    .dataframe tbody tr th {\n",
       "        vertical-align: top;\n",
       "    }\n",
       "\n",
       "    .dataframe thead th {\n",
       "        text-align: right;\n",
       "    }\n",
       "</style>\n",
       "<table border=\"1\" class=\"dataframe\">\n",
       "  <thead>\n",
       "    <tr style=\"text-align: right;\">\n",
       "      <th></th>\n",
       "      <th>ride_id</th>\n",
       "      <th>rideable_type</th>\n",
       "      <th>started_at</th>\n",
       "      <th>ended_at</th>\n",
       "      <th>start_station_name</th>\n",
       "      <th>start_station_id</th>\n",
       "      <th>end_station_name</th>\n",
       "      <th>end_station_id</th>\n",
       "      <th>member_casual</th>\n",
       "      <th>source_file_name</th>\n",
       "      <th>ride_length</th>\n",
       "      <th>weekday</th>\n",
       "      <th>ride_time</th>\n",
       "      <th>month</th>\n",
       "    </tr>\n",
       "  </thead>\n",
       "  <tbody>\n",
       "    <tr>\n",
       "      <th>0</th>\n",
       "      <td>E19E6F1B8D4C42ED</td>\n",
       "      <td>electric_bike</td>\n",
       "      <td>2021-01-23 16:14:19</td>\n",
       "      <td>2021-01-23 16:24:44</td>\n",
       "      <td>California Ave &amp; Cortez St</td>\n",
       "      <td>17660</td>\n",
       "      <td>NaN</td>\n",
       "      <td>NaN</td>\n",
       "      <td>member</td>\n",
       "      <td>202101.csv</td>\n",
       "      <td>0 days 00:10:25</td>\n",
       "      <td>5</td>\n",
       "      <td>10</td>\n",
       "      <td>1</td>\n",
       "    </tr>\n",
       "    <tr>\n",
       "      <th>1</th>\n",
       "      <td>DC88F20C2C55F27F</td>\n",
       "      <td>electric_bike</td>\n",
       "      <td>2021-01-27 18:43:08</td>\n",
       "      <td>2021-01-27 18:47:12</td>\n",
       "      <td>California Ave &amp; Cortez St</td>\n",
       "      <td>17660</td>\n",
       "      <td>NaN</td>\n",
       "      <td>NaN</td>\n",
       "      <td>member</td>\n",
       "      <td>202101.csv</td>\n",
       "      <td>0 days 00:04:04</td>\n",
       "      <td>2</td>\n",
       "      <td>4</td>\n",
       "      <td>1</td>\n",
       "    </tr>\n",
       "    <tr>\n",
       "      <th>2</th>\n",
       "      <td>EC45C94683FE3F27</td>\n",
       "      <td>electric_bike</td>\n",
       "      <td>2021-01-21 22:35:54</td>\n",
       "      <td>2021-01-21 22:37:14</td>\n",
       "      <td>California Ave &amp; Cortez St</td>\n",
       "      <td>17660</td>\n",
       "      <td>NaN</td>\n",
       "      <td>NaN</td>\n",
       "      <td>member</td>\n",
       "      <td>202101.csv</td>\n",
       "      <td>0 days 00:01:20</td>\n",
       "      <td>3</td>\n",
       "      <td>1</td>\n",
       "      <td>1</td>\n",
       "    </tr>\n",
       "    <tr>\n",
       "      <th>3</th>\n",
       "      <td>4FA453A75AE377DB</td>\n",
       "      <td>electric_bike</td>\n",
       "      <td>2021-01-07 13:31:13</td>\n",
       "      <td>2021-01-07 13:42:55</td>\n",
       "      <td>California Ave &amp; Cortez St</td>\n",
       "      <td>17660</td>\n",
       "      <td>NaN</td>\n",
       "      <td>NaN</td>\n",
       "      <td>member</td>\n",
       "      <td>202101.csv</td>\n",
       "      <td>0 days 00:11:42</td>\n",
       "      <td>3</td>\n",
       "      <td>11</td>\n",
       "      <td>1</td>\n",
       "    </tr>\n",
       "    <tr>\n",
       "      <th>4</th>\n",
       "      <td>BE5E8EB4E7263A0B</td>\n",
       "      <td>electric_bike</td>\n",
       "      <td>2021-01-23 02:24:02</td>\n",
       "      <td>2021-01-23 02:24:45</td>\n",
       "      <td>California Ave &amp; Cortez St</td>\n",
       "      <td>17660</td>\n",
       "      <td>NaN</td>\n",
       "      <td>NaN</td>\n",
       "      <td>casual</td>\n",
       "      <td>202101.csv</td>\n",
       "      <td>0 days 00:00:43</td>\n",
       "      <td>5</td>\n",
       "      <td>0</td>\n",
       "      <td>1</td>\n",
       "    </tr>\n",
       "  </tbody>\n",
       "</table>\n",
       "</div>"
      ],
      "text/plain": [
       "            ride_id  rideable_type          started_at            ended_at  \\\n",
       "0  E19E6F1B8D4C42ED  electric_bike 2021-01-23 16:14:19 2021-01-23 16:24:44   \n",
       "1  DC88F20C2C55F27F  electric_bike 2021-01-27 18:43:08 2021-01-27 18:47:12   \n",
       "2  EC45C94683FE3F27  electric_bike 2021-01-21 22:35:54 2021-01-21 22:37:14   \n",
       "3  4FA453A75AE377DB  electric_bike 2021-01-07 13:31:13 2021-01-07 13:42:55   \n",
       "4  BE5E8EB4E7263A0B  electric_bike 2021-01-23 02:24:02 2021-01-23 02:24:45   \n",
       "\n",
       "           start_station_name start_station_id end_station_name  \\\n",
       "0  California Ave & Cortez St            17660              NaN   \n",
       "1  California Ave & Cortez St            17660              NaN   \n",
       "2  California Ave & Cortez St            17660              NaN   \n",
       "3  California Ave & Cortez St            17660              NaN   \n",
       "4  California Ave & Cortez St            17660              NaN   \n",
       "\n",
       "  end_station_id member_casual source_file_name     ride_length  weekday  \\\n",
       "0            NaN        member       202101.csv 0 days 00:10:25        5   \n",
       "1            NaN        member       202101.csv 0 days 00:04:04        2   \n",
       "2            NaN        member       202101.csv 0 days 00:01:20        3   \n",
       "3            NaN        member       202101.csv 0 days 00:11:42        3   \n",
       "4            NaN        casual       202101.csv 0 days 00:00:43        5   \n",
       "\n",
       "   ride_time  month  \n",
       "0         10      1  \n",
       "1          4      1  \n",
       "2          1      1  \n",
       "3         11      1  \n",
       "4          0      1  "
      ]
     },
     "execution_count": 37,
     "metadata": {},
     "output_type": "execute_result"
    }
   ],
   "source": [
    "data.head()"
   ]
  },
  {
   "cell_type": "markdown",
   "id": "2242156a",
   "metadata": {},
   "source": [
    "# Analysing user types"
   ]
  },
  {
   "cell_type": "code",
   "execution_count": 60,
   "id": "be5be46a",
   "metadata": {},
   "outputs": [
    {
     "data": {
      "image/png": "[encoded data removed]",
      "text/plain": [
       "<Figure size 864x432 with 1 Axes>"
      ]
     },
     "metadata": {},
     "output_type": "display_data"
    }
   ],
   "source": [
    "member = data.member_casual.value_counts()\n",
    "plt.figure(figsize=(12,6))\n",
    "plt.title('types of users')\n",
    "plt.pie(member, labels=member.index, autopct='%1.1f%%', startangle=90);"
   ]
  },
  {
   "cell_type": "markdown",
   "id": "cb2ae853",
   "metadata": {},
   "source": [
    "For year 2021, there were 54.8% of users with annual membership, 45.2% of users without annual membership."
   ]
  },
  {
   "cell_type": "markdown",
   "id": "0aa02996",
   "metadata": {},
   "source": [
    "# Analysing rides on monthly basis"
   ]
  },
  {
   "cell_type": "code",
   "execution_count": 40,
   "id": "1339c86b",
   "metadata": {},
   "outputs": [],
   "source": [
    "monthly_rides = data.month.value_counts().sort_index()"
   ]
  },
  {
   "cell_type": "code",
   "execution_count": 58,
   "id": "dc171c02",
   "metadata": {},
   "outputs": [
    {
     "data": {
      "text/plain": [
       "<AxesSubplot:ylabel='month'>"
      ]
     },
     "execution_count": 58,
     "metadata": {},
     "output_type": "execute_result"
    },
    {
     "data": {
      "image/png": "[encoded data removed]",
      "text/plain": [
       "<Figure size 864x432 with 1 Axes>"
      ]
     },
     "metadata": {
      "needs_background": "light"
     },
     "output_type": "display_data"
    }
   ],
   "source": [
    "plt.figure(figsize=(12,6))\n",
    "sns.barplot(x= monthly_rides.index , y= monthly_rides )"
   ]
  },
  {
   "cell_type": "code",
   "execution_count": 57,
   "id": "d882c0a4",
   "metadata": {},
   "outputs": [
    {
     "data": {
      "text/plain": [
       "<AxesSubplot:title={'center':'Monthly ride usage'}, xlabel='month', ylabel='count'>"
      ]
     },
     "execution_count": 57,
     "metadata": {},
     "output_type": "execute_result"
    },
    {
     "data": {
      "image/png": "[encoded data removed]",
      "text/plain": [
       "<Figure size 864x432 with 1 Axes>"
      ]
     },
     "metadata": {
      "needs_background": "light"
     },
     "output_type": "display_data"
    }
   ],
   "source": [
    "plt.figure(figsize=(12,6))\n",
    "plt.title(\"Monthly ride usage\")\n",
    "sns.countplot(data= data, x= data.month, hue= data.member_casual ) "
   ]
  },
  {
   "cell_type": "markdown",
   "id": "7972c14f",
   "metadata": {},
   "source": [
    "There is a clear uptrend in number of rides from January to July and peaked in July after that trend goes down till december.\n",
    "also casual riders(not having membership) took more number of rides than members in month of June, July and August."
   ]
  },
  {
   "cell_type": "markdown",
   "id": "6940d2a2",
   "metadata": {},
   "source": [
    "# Weekday analysis of rides"
   ]
  },
  {
   "cell_type": "code",
   "execution_count": 62,
   "id": "f1b28ab5",
   "metadata": {},
   "outputs": [],
   "source": [
    "week_day_rides = data.weekday.value_counts().sort_index()"
   ]
  },
  {
   "cell_type": "code",
   "execution_count": 64,
   "id": "4c41a67f",
   "metadata": {},
   "outputs": [
    {
     "data": {
      "text/plain": [
       "<AxesSubplot:ylabel='weekday'>"
      ]
     },
     "execution_count": 64,
     "metadata": {},
     "output_type": "execute_result"
    },
    {
     "data": {
      "image/png": "[encoded data removed]",
      "text/plain": [
       "<Figure size 432x288 with 1 Axes>"
      ]
     },
     "metadata": {
      "needs_background": "light"
     },
     "output_type": "display_data"
    }
   ],
   "source": [
    "sns.barplot(x= week_day_rides.index, y= week_day_rides)"
   ]
  },
  {
   "cell_type": "code",
   "execution_count": 73,
   "id": "301cfb5b",
   "metadata": {},
   "outputs": [
    {
     "data": {
      "text/plain": [
       "<AxesSubplot:title={'center':'weekly ride usage'}, ylabel='weekday'>"
      ]
     },
     "execution_count": 73,
     "metadata": {},
     "output_type": "execute_result"
    },
    {
     "data": {
      "image/png": "[encoded data removed]",
      "text/plain": [
       "<Figure size 864x432 with 1 Axes>"
      ]
     },
     "metadata": {
      "needs_background": "light"
     },
     "output_type": "display_data"
    }
   ],
   "source": [
    "plt.figure(figsize=(12,6))\n",
    "plt.title(\"weekly ride usage\")\n",
    "sns.lineplot( x= week_day_rides.index,y= week_day_rides  )"
   ]
  },
  {
   "cell_type": "markdown",
   "id": "9958f8ba",
   "metadata": {},
   "source": [
    "this plot shows bikes are used more on weekends. And MODE of data is on day 5 i.e. Saturday.\n",
    "\n",
    "\n"
   ]
  },
  {
   "cell_type": "code",
   "execution_count": 76,
   "id": "8abfce6f",
   "metadata": {},
   "outputs": [
    {
     "data": {
      "text/plain": [
       "<AxesSubplot:title={'center':'weekly ride usage'}, xlabel='weekday', ylabel='count'>"
      ]
     },
     "execution_count": 76,
     "metadata": {},
     "output_type": "execute_result"
    },
    {
     "data": {
      "image/png": "[encoded data removed]",
      "text/plain": [
       "<Figure size 864x504 with 1 Axes>"
      ]
     },
     "metadata": {
      "needs_background": "light"
     },
     "output_type": "display_data"
    }
   ],
   "source": [
    "plt.figure(figsize=(12,7))\n",
    "plt.title(\"weekly ride usage\")\n",
    "sns.countplot(data= data, x= data.weekday, hue= data.member_casual )"
   ]
  },
  {
   "cell_type": "markdown",
   "id": "b5200d03",
   "metadata": {},
   "source": [
    "On 'weekends' casual members(without annual membership)  use more rides than annual members. And on 'weekdays' riders having \n",
    "annual membership are more than casual members."
   ]
  },
  {
   "cell_type": "markdown",
   "id": "90bd34d3",
   "metadata": {},
   "source": [
    "# Analysing ride duration"
   ]
  },
  {
   "cell_type": "code",
   "execution_count": 51,
   "id": "27d3b347",
   "metadata": {},
   "outputs": [
    {
     "data": {
      "image/png": "[encoded data removed]",
      "text/plain": [
       "<Figure size 864x432 with 1 Axes>"
      ]
     },
     "metadata": {
      "needs_background": "light"
     },
     "output_type": "display_data"
    }
   ],
   "source": [
    "plt.figure(figsize=(12,6))\n",
    "plt.title(\"ride_time vs no. of rides\")\n",
    "plt.xlabel('ride_time')\n",
    "plt.ylabel('no. of rides')\n",
    "plt.hist(x= data.ride_time, bins= 250,range=(0,250), histtype='stepfilled');"
   ]
  },
  {
   "cell_type": "markdown",
   "id": "8e8ac8cc",
   "metadata": {},
   "source": [
    "this histogram shows the distribution of number of rides and the duration of ride. "
   ]
  },
  {
   "cell_type": "code",
   "execution_count": 38,
   "id": "f41f1567",
   "metadata": {},
   "outputs": [
    {
     "data": {
      "image/png": "[encoded data removed]",
      "text/plain": [
       "<Figure size 864x576 with 1 Axes>"
      ]
     },
     "metadata": {
      "needs_background": "light"
     },
     "output_type": "display_data"
    }
   ],
   "source": [
    "plt.figure(figsize=(12,8))\n",
    "sns.boxplot(x=data.member_casual, y= data.ride_time);"
   ]
  },
  {
   "cell_type": "markdown",
   "id": "b9145ce9",
   "metadata": {},
   "source": [
    "From this boxplot we can infer that annual members generally use bikes for short duration, where as casual riders(without annual membership) uses bikes for longer duration."
   ]
  },
  {
   "cell_type": "code",
   "execution_count": 2,
   "id": "d1a2e315",
   "metadata": {},
   "outputs": [
    {
     "data": {
      "text/html": [
       "<div>\n",
       "<style scoped>\n",
       "    .dataframe tbody tr th:only-of-type {\n",
       "        vertical-align: middle;\n",
       "    }\n",
       "\n",
       "    .dataframe tbody tr th {\n",
       "        vertical-align: top;\n",
       "    }\n",
       "\n",
       "    .dataframe thead th {\n",
       "        text-align: right;\n",
       "    }\n",
       "</style>\n",
       "<table border=\"1\" class=\"dataframe\">\n",
       "  <thead>\n",
       "    <tr style=\"text-align: right;\">\n",
       "      <th></th>\n",
       "      <th>Unnamed: 0</th>\n",
       "      <th>ride_id</th>\n",
       "      <th>rideable_type</th>\n",
       "      <th>started_at</th>\n",
       "      <th>ended_at</th>\n",
       "      <th>start_station_name</th>\n",
       "      <th>start_station_id</th>\n",
       "      <th>end_station_name</th>\n",
       "      <th>end_station_id</th>\n",
       "      <th>member_casual</th>\n",
       "      <th>ride_length</th>\n",
       "      <th>weekday</th>\n",
       "      <th>month</th>\n",
       "      <th>ride_time</th>\n",
       "    </tr>\n",
       "  </thead>\n",
       "  <tbody>\n",
       "    <tr>\n",
       "      <th>0</th>\n",
       "      <td>0</td>\n",
       "      <td>E19E6F1B8D4C42ED</td>\n",
       "      <td>electric_bike</td>\n",
       "      <td>2021-01-23 16:14:19</td>\n",
       "      <td>2021-01-23 16:24:44</td>\n",
       "      <td>California Ave &amp; Cortez St</td>\n",
       "      <td>17660</td>\n",
       "      <td>NaN</td>\n",
       "      <td>NaN</td>\n",
       "      <td>member</td>\n",
       "      <td>0 days 00:10:25</td>\n",
       "      <td>5</td>\n",
       "      <td>1</td>\n",
       "      <td>10</td>\n",
       "    </tr>\n",
       "    <tr>\n",
       "      <th>1</th>\n",
       "      <td>1</td>\n",
       "      <td>DC88F20C2C55F27F</td>\n",
       "      <td>electric_bike</td>\n",
       "      <td>2021-01-27 18:43:08</td>\n",
       "      <td>2021-01-27 18:47:12</td>\n",
       "      <td>California Ave &amp; Cortez St</td>\n",
       "      <td>17660</td>\n",
       "      <td>NaN</td>\n",
       "      <td>NaN</td>\n",
       "      <td>member</td>\n",
       "      <td>0 days 00:04:04</td>\n",
       "      <td>2</td>\n",
       "      <td>1</td>\n",
       "      <td>4</td>\n",
       "    </tr>\n",
       "    <tr>\n",
       "      <th>2</th>\n",
       "      <td>2</td>\n",
       "      <td>EC45C94683FE3F27</td>\n",
       "      <td>electric_bike</td>\n",
       "      <td>2021-01-21 22:35:54</td>\n",
       "      <td>2021-01-21 22:37:14</td>\n",
       "      <td>California Ave &amp; Cortez St</td>\n",
       "      <td>17660</td>\n",
       "      <td>NaN</td>\n",
       "      <td>NaN</td>\n",
       "      <td>member</td>\n",
       "      <td>0 days 00:01:20</td>\n",
       "      <td>3</td>\n",
       "      <td>1</td>\n",
       "      <td>1</td>\n",
       "    </tr>\n",
       "    <tr>\n",
       "      <th>3</th>\n",
       "      <td>3</td>\n",
       "      <td>4FA453A75AE377DB</td>\n",
       "      <td>electric_bike</td>\n",
       "      <td>2021-01-07 13:31:13</td>\n",
       "      <td>2021-01-07 13:42:55</td>\n",
       "      <td>California Ave &amp; Cortez St</td>\n",
       "      <td>17660</td>\n",
       "      <td>NaN</td>\n",
       "      <td>NaN</td>\n",
       "      <td>member</td>\n",
       "      <td>0 days 00:11:42</td>\n",
       "      <td>3</td>\n",
       "      <td>1</td>\n",
       "      <td>11</td>\n",
       "    </tr>\n",
       "    <tr>\n",
       "      <th>4</th>\n",
       "      <td>4</td>\n",
       "      <td>BE5E8EB4E7263A0B</td>\n",
       "      <td>electric_bike</td>\n",
       "      <td>2021-01-23 02:24:02</td>\n",
       "      <td>2021-01-23 02:24:45</td>\n",
       "      <td>California Ave &amp; Cortez St</td>\n",
       "      <td>17660</td>\n",
       "      <td>NaN</td>\n",
       "      <td>NaN</td>\n",
       "      <td>casual</td>\n",
       "      <td>0 days 00:00:43</td>\n",
       "      <td>5</td>\n",
       "      <td>1</td>\n",
       "      <td>0</td>\n",
       "    </tr>\n",
       "  </tbody>\n",
       "</table>\n",
       "</div>"
      ],
      "text/plain": [
       "   Unnamed: 0           ride_id  rideable_type           started_at  \\\n",
       "0           0  E19E6F1B8D4C42ED  electric_bike  2021-01-23 16:14:19   \n",
       "1           1  DC88F20C2C55F27F  electric_bike  2021-01-27 18:43:08   \n",
       "2           2  EC45C94683FE3F27  electric_bike  2021-01-21 22:35:54   \n",
       "3           3  4FA453A75AE377DB  electric_bike  2021-01-07 13:31:13   \n",
       "4           4  BE5E8EB4E7263A0B  electric_bike  2021-01-23 02:24:02   \n",
       "\n",
       "              ended_at          start_station_name start_station_id  \\\n",
       "0  2021-01-23 16:24:44  California Ave & Cortez St            17660   \n",
       "1  2021-01-27 18:47:12  California Ave & Cortez St            17660   \n",
       "2  2021-01-21 22:37:14  California Ave & Cortez St            17660   \n",
       "3  2021-01-07 13:42:55  California Ave & Cortez St            17660   \n",
       "4  2021-01-23 02:24:45  California Ave & Cortez St            17660   \n",
       "\n",
       "  end_station_name end_station_id member_casual      ride_length  weekday  \\\n",
       "0              NaN            NaN        member  0 days 00:10:25        5   \n",
       "1              NaN            NaN        member  0 days 00:04:04        2   \n",
       "2              NaN            NaN        member  0 days 00:01:20        3   \n",
       "3              NaN            NaN        member  0 days 00:11:42        3   \n",
       "4              NaN            NaN        casual  0 days 00:00:43        5   \n",
       "\n",
       "   month  ride_time  \n",
       "0      1         10  \n",
       "1      1          4  \n",
       "2      1          1  \n",
       "3      1         11  \n",
       "4      1          0  "
      ]
     },
     "execution_count": 2,
     "metadata": {},
     "output_type": "execute_result"
    }
   ],
   "source": [
    "data = pd.read_csv('final_data.csv')\n",
    "data.head()"
   ]
  },
  {
   "cell_type": "markdown",
   "id": "3d26b8d0",
   "metadata": {},
   "source": [
    "# statistics of Riding time of users"
   ]
  },
  {
   "cell_type": "code",
   "execution_count": 27,
   "id": "ab93772b",
   "metadata": {},
   "outputs": [
    {
     "data": {
      "text/html": [
       "<div>\n",
       "<style scoped>\n",
       "    .dataframe tbody tr th:only-of-type {\n",
       "        vertical-align: middle;\n",
       "    }\n",
       "\n",
       "    .dataframe tbody tr th {\n",
       "        vertical-align: top;\n",
       "    }\n",
       "\n",
       "    .dataframe thead th {\n",
       "        text-align: right;\n",
       "    }\n",
       "</style>\n",
       "<table border=\"1\" class=\"dataframe\">\n",
       "  <thead>\n",
       "    <tr style=\"text-align: right;\">\n",
       "      <th></th>\n",
       "      <th>0</th>\n",
       "    </tr>\n",
       "  </thead>\n",
       "  <tbody>\n",
       "    <tr>\n",
       "      <th>ride_time</th>\n",
       "      <td>21.45</td>\n",
       "    </tr>\n",
       "  </tbody>\n",
       "</table>\n",
       "</div>"
      ],
      "text/plain": [
       "              0\n",
       "ride_time 21.45"
      ]
     },
     "execution_count": 27,
     "metadata": {},
     "output_type": "execute_result"
    }
   ],
   "source": [
    "pd.DataFrame(data[['ride_time']].mean())"
   ]
  },
  {
   "cell_type": "markdown",
   "id": "268eccba",
   "metadata": {},
   "source": [
    " Average riding time of all users is about 21-22 minutes."
   ]
  },
  {
   "cell_type": "code",
   "execution_count": 12,
   "id": "d6015d54",
   "metadata": {},
   "outputs": [
    {
     "data": {
      "text/html": [
       "<div>\n",
       "<style scoped>\n",
       "    .dataframe tbody tr th:only-of-type {\n",
       "        vertical-align: middle;\n",
       "    }\n",
       "\n",
       "    .dataframe tbody tr th {\n",
       "        vertical-align: top;\n",
       "    }\n",
       "\n",
       "    .dataframe thead th {\n",
       "        text-align: right;\n",
       "    }\n",
       "</style>\n",
       "<table border=\"1\" class=\"dataframe\">\n",
       "  <thead>\n",
       "    <tr style=\"text-align: right;\">\n",
       "      <th></th>\n",
       "      <th>ride_time</th>\n",
       "    </tr>\n",
       "    <tr>\n",
       "      <th>member_casual</th>\n",
       "      <th></th>\n",
       "    </tr>\n",
       "  </thead>\n",
       "  <tbody>\n",
       "    <tr>\n",
       "      <th>casual</th>\n",
       "      <td>31.51</td>\n",
       "    </tr>\n",
       "    <tr>\n",
       "      <th>member</th>\n",
       "      <td>13.14</td>\n",
       "    </tr>\n",
       "  </tbody>\n",
       "</table>\n",
       "</div>"
      ],
      "text/plain": [
       "               ride_time\n",
       "member_casual           \n",
       "casual             31.51\n",
       "member             13.14"
      ]
     },
     "execution_count": 12,
     "metadata": {},
     "output_type": "execute_result"
    }
   ],
   "source": [
    "data.groupby('member_casual')[['ride_time']].mean()"
   ]
  },
  {
   "cell_type": "markdown",
   "id": "a0ca044d",
   "metadata": {},
   "source": [
    " Average riding time of casual riders is about 31 minutes and average riding time of annual members is about 13 minutes."
   ]
  },
  {
   "cell_type": "code",
   "execution_count": 24,
   "id": "2fd7427f",
   "metadata": {},
   "outputs": [
    {
     "data": {
      "image/png": "[encoded data removed]",
      "text/plain": [
       "<Figure size 432x288 with 1 Axes>"
      ]
     },
     "metadata": {
      "needs_background": "light"
     },
     "output_type": "display_data"
    }
   ],
   "source": [
    "data.groupby('weekday')[['ride_time']].mean().plot();"
   ]
  },
  {
   "cell_type": "code",
   "execution_count": 21,
   "id": "d6ba66b2",
   "metadata": {},
   "outputs": [
    {
     "data": {
      "text/plain": [
       "<AxesSubplot:title={'center':'Average riding time of users on Weekdays'}, xlabel='weekday', ylabel='ride_time'>"
      ]
     },
     "execution_count": 21,
     "metadata": {},
     "output_type": "execute_result"
    },
    {
     "data": {
      "image/png": "[encoded data removed]",
      "text/plain": [
       "<Figure size 864x432 with 1 Axes>"
      ]
     },
     "metadata": {
      "needs_background": "light"
     },
     "output_type": "display_data"
    }
   ],
   "source": [
    "plt.figure(figsize=(12,6))\n",
    "plt.title(\"Average riding time of users on Weekdays\")\n",
    "sns.barplot(data= data, x= data.weekday, y= data.ride_time,hue= data.member_casual)"
   ]
  },
  {
   "cell_type": "markdown",
   "id": "32cb9a9b",
   "metadata": {},
   "source": [
    " Above plots shows 'rising' trend of 'average riding time' as 'weekend' approaches. And casual users average riding time is more than members."
   ]
  },
  {
   "cell_type": "markdown",
   "id": "7ad1c2a0",
   "metadata": {},
   "source": [
    "# Summary"
   ]
  },
  {
   "cell_type": "markdown",
   "id": "24f92c51",
   "metadata": {},
   "source": [
    "From above analysis the following observations can be made :-"
   ]
  },
  {
   "cell_type": "markdown",
   "id": "ab25db1a",
   "metadata": {},
   "source": [
    "1) For year 2021, there were 54.8% of users with annual membership, 45.2% of users without annual membership."
   ]
  },
  {
   "cell_type": "markdown",
   "id": "f6301d65",
   "metadata": {},
   "source": [
    "2) There is a clear uptrend in number of rides from January to July and peaked in July after that trend goes down till        december. also casual riders(not having membership) took more number of rides than annual members in month of June, July    and August."
   ]
  },
  {
   "cell_type": "markdown",
   "id": "00abc55a",
   "metadata": {},
   "source": [
    "3) On 'weekends' casual members(without annual membership) use more rides than annual members. And on 'weekdays' riders        having annual membership are more than casual members."
   ]
  },
  {
   "cell_type": "markdown",
   "id": "d6c81c59",
   "metadata": {},
   "source": [
    "4) Average riding time of casual riders is about 31 minutes and average riding time of annual members is about 13 minutes."
   ]
  },
  {
   "cell_type": "markdown",
   "id": "27bd7bb0",
   "metadata": {},
   "source": [
    "# Tableau Dashboard"
   ]
  },
  {
   "cell_type": "markdown",
   "id": "2036e8c2",
   "metadata": {},
   "source": [
    "#project dashboard link in Tableau\n",
    "\n",
    "link :- https://public.tableau.com/app/profile/sachin.patel8488/viz/howcasualridersandannualmembersuseCyclisticbikesdifferently/Dashboard1"
   ]
  },
  {
   "cell_type": "markdown",
   "id": "6b6570d0",
   "metadata": {},
   "source": [
    "# References"
   ]
  },
  {
   "cell_type": "markdown",
   "id": "91582a42",
   "metadata": {},
   "source": [
    ">data sourse link -> https://divvy-tripdata.s3.amazonaws.com/index.html."
   ]
  },
  {
   "cell_type": "markdown",
   "id": "4af2766d",
   "metadata": {},
   "source": [
    ">Pandas user guide: https://pandas.pydata.org/docs/user_guide/index.html"
   ]
  },
  {
   "cell_type": "markdown",
   "id": "f1180f10",
   "metadata": {},
   "source": [
    ">Matplotlib user guide: https://matplotlib.org/3.3.1/users/index.html"
   ]
  },
  {
   "cell_type": "markdown",
   "id": "bc9e8064",
   "metadata": {},
   "source": [
    ">Seaborn user guide & tutorial: https://seaborn.pydata.org/tutorial.html"
   ]
  },
  {
   "cell_type": "code",
   "execution_count": null,
   "id": "b964e0c5",
   "metadata": {},
   "outputs": [],
   "source": []
  }
 ],
 "metadata": {
  "kernelspec": {
   "display_name": "Python 3",
   "language": "python",
   "name": "python3"
  },
  "language_info": {
   "codemirror_mode": {
    "name": "ipython",
    "version": 3
   },
   "file_extension": ".py",
   "mimetype": "text/x-python",
   "name": "python",
   "nbconvert_exporter": "python",
   "pygments_lexer": "ipython3",
   "version": "3.8.8"
  }
 },
 "nbformat": 4,
 "nbformat_minor": 5
}
