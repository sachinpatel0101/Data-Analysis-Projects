{
 "cells": [
  {
   "cell_type": "code",
   "execution_count": 1,
   "id": "55106d98",
   "metadata": {},
   "outputs": [],
   "source": [
    "import pandas as pd\n",
    "import datetime as dt"
   ]
  },
  {
   "cell_type": "code",
   "execution_count": 2,
   "id": "5c5a421f",
   "metadata": {},
   "outputs": [],
   "source": [
    "import numpy as np"
   ]
  },
  {
   "cell_type": "code",
   "execution_count": 3,
   "id": "6965f085",
   "metadata": {},
   "outputs": [
    {
     "data": {
      "text/html": [
       "<div>\n",
       "<style scoped>\n",
       "    .dataframe tbody tr th:only-of-type {\n",
       "        vertical-align: middle;\n",
       "    }\n",
       "\n",
       "    .dataframe tbody tr th {\n",
       "        vertical-align: top;\n",
       "    }\n",
       "\n",
       "    .dataframe thead th {\n",
       "        text-align: right;\n",
       "    }\n",
       "</style>\n",
       "<table border=\"1\" class=\"dataframe\">\n",
       "  <thead>\n",
       "    <tr style=\"text-align: right;\">\n",
       "      <th></th>\n",
       "      <th>StringID</th>\n",
       "      <th>Product</th>\n",
       "      <th>CustomerGender</th>\n",
       "      <th>Location</th>\n",
       "      <th>Region</th>\n",
       "      <th>TotalPrice</th>\n",
       "      <th>StartDate</th>\n",
       "      <th>Deposit</th>\n",
       "      <th>DailyRate</th>\n",
       "      <th>TotalDaysYr</th>\n",
       "      <th>AmtPaid36</th>\n",
       "      <th>AmtPaid60</th>\n",
       "      <th>AmtPaid360</th>\n",
       "      <th>LoanStatus</th>\n",
       "    </tr>\n",
       "    <tr>\n",
       "      <th>LoanID</th>\n",
       "      <th></th>\n",
       "      <th></th>\n",
       "      <th></th>\n",
       "      <th></th>\n",
       "      <th></th>\n",
       "      <th></th>\n",
       "      <th></th>\n",
       "      <th></th>\n",
       "      <th></th>\n",
       "      <th></th>\n",
       "      <th></th>\n",
       "      <th></th>\n",
       "      <th></th>\n",
       "      <th></th>\n",
       "    </tr>\n",
       "  </thead>\n",
       "  <tbody>\n",
       "    <tr>\n",
       "      <th>1</th>\n",
       "      <td>LoanID_1</td>\n",
       "      <td>Product B</td>\n",
       "      <td>Female</td>\n",
       "      <td>Location 3</td>\n",
       "      <td>Region 2</td>\n",
       "      <td>17600.0</td>\n",
       "      <td>04/07/2018</td>\n",
       "      <td>2200</td>\n",
       "      <td>45</td>\n",
       "      <td>365</td>\n",
       "      <td>3221</td>\n",
       "      <td>4166</td>\n",
       "      <td>14621</td>\n",
       "      <td>Active</td>\n",
       "    </tr>\n",
       "    <tr>\n",
       "      <th>2</th>\n",
       "      <td>LoanID_2</td>\n",
       "      <td>Product D</td>\n",
       "      <td>Female</td>\n",
       "      <td>Location 6</td>\n",
       "      <td>Region 6</td>\n",
       "      <td>NaN</td>\n",
       "      <td>02/01/2019</td>\n",
       "      <td>2200</td>\n",
       "      <td>45</td>\n",
       "      <td>365</td>\n",
       "      <td>3161</td>\n",
       "      <td>4096</td>\n",
       "      <td>16041</td>\n",
       "      <td>Active</td>\n",
       "    </tr>\n",
       "    <tr>\n",
       "      <th>3</th>\n",
       "      <td>LoanID_3</td>\n",
       "      <td>Product B</td>\n",
       "      <td>Male</td>\n",
       "      <td>Location 8</td>\n",
       "      <td>Region 3</td>\n",
       "      <td>16600.0</td>\n",
       "      <td>08/12/2016</td>\n",
       "      <td>1000</td>\n",
       "      <td>45</td>\n",
       "      <td>365</td>\n",
       "      <td>2260</td>\n",
       "      <td>3205</td>\n",
       "      <td>16340</td>\n",
       "      <td>NaN</td>\n",
       "    </tr>\n",
       "    <tr>\n",
       "      <th>4</th>\n",
       "      <td>LoanID_4</td>\n",
       "      <td>Product A</td>\n",
       "      <td>Male</td>\n",
       "      <td>Location 26</td>\n",
       "      <td>Region 2</td>\n",
       "      <td>17600.0</td>\n",
       "      <td>NaN</td>\n",
       "      <td>2200</td>\n",
       "      <td>45</td>\n",
       "      <td>365</td>\n",
       "      <td>3141</td>\n",
       "      <td>4166</td>\n",
       "      <td>16321</td>\n",
       "      <td>Active</td>\n",
       "    </tr>\n",
       "    <tr>\n",
       "      <th>5</th>\n",
       "      <td>LoanID_5</td>\n",
       "      <td>Product B</td>\n",
       "      <td>Female</td>\n",
       "      <td>Location 34</td>\n",
       "      <td>Region 3</td>\n",
       "      <td>21250.0</td>\n",
       "      <td>28/10/2017</td>\n",
       "      <td>2200</td>\n",
       "      <td>55</td>\n",
       "      <td>365</td>\n",
       "      <td>3570</td>\n",
       "      <td>4745</td>\n",
       "      <td>14720</td>\n",
       "      <td>Active</td>\n",
       "    </tr>\n",
       "  </tbody>\n",
       "</table>\n",
       "</div>"
      ],
      "text/plain": [
       "        StringID    Product CustomerGender     Location    Region  TotalPrice  \\\n",
       "LoanID                                                                          \n",
       "1       LoanID_1  Product B         Female   Location 3  Region 2     17600.0   \n",
       "2       LoanID_2  Product D         Female   Location 6  Region 6         NaN   \n",
       "3       LoanID_3  Product B           Male   Location 8  Region 3     16600.0   \n",
       "4       LoanID_4  Product A           Male  Location 26  Region 2     17600.0   \n",
       "5       LoanID_5  Product B         Female  Location 34  Region 3     21250.0   \n",
       "\n",
       "         StartDate  Deposit  DailyRate  TotalDaysYr  AmtPaid36  AmtPaid60  \\\n",
       "LoanID                                                                      \n",
       "1       04/07/2018     2200         45          365       3221       4166   \n",
       "2       02/01/2019     2200         45          365       3161       4096   \n",
       "3       08/12/2016     1000         45          365       2260       3205   \n",
       "4              NaN     2200         45          365       3141       4166   \n",
       "5       28/10/2017     2200         55          365       3570       4745   \n",
       "\n",
       "        AmtPaid360 LoanStatus  \n",
       "LoanID                         \n",
       "1            14621     Active  \n",
       "2            16041     Active  \n",
       "3            16340        NaN  \n",
       "4            16321     Active  \n",
       "5            14720     Active  "
      ]
     },
     "execution_count": 3,
     "metadata": {},
     "output_type": "execute_result"
    }
   ],
   "source": [
    "data = pd.read_csv('Lending_company.csv', index_col='LoanID')\n",
    "df = data.copy()\n",
    "df.head()"
   ]
  },
  {
   "cell_type": "code",
   "execution_count": null,
   "id": "0bf078a9",
   "metadata": {},
   "outputs": [],
   "source": []
  },
  {
   "cell_type": "code",
   "execution_count": null,
   "id": "7375dc55",
   "metadata": {},
   "outputs": [],
   "source": []
  },
  {
   "cell_type": "code",
   "execution_count": null,
   "id": "7af98412",
   "metadata": {},
   "outputs": [],
   "source": []
  },
  {
   "cell_type": "code",
   "execution_count": 4,
   "id": "f9e3cf8c",
   "metadata": {},
   "outputs": [
    {
     "data": {
      "text/plain": [
       "datetime.date(2022, 10, 21)"
      ]
     },
     "execution_count": 4,
     "metadata": {},
     "output_type": "execute_result"
    }
   ],
   "source": [
    "mydate = dt.date(2022, 10, 21)\n",
    "mydate"
   ]
  },
  {
   "cell_type": "code",
   "execution_count": 5,
   "id": "654d3213",
   "metadata": {},
   "outputs": [
    {
     "data": {
      "text/plain": [
       "datetime.date"
      ]
     },
     "execution_count": 5,
     "metadata": {},
     "output_type": "execute_result"
    }
   ],
   "source": [
    "type(mydate)"
   ]
  },
  {
   "cell_type": "code",
   "execution_count": 6,
   "id": "91474c74",
   "metadata": {},
   "outputs": [
    {
     "data": {
      "text/plain": [
       "(2022, 10, 21, 4)"
      ]
     },
     "execution_count": 6,
     "metadata": {},
     "output_type": "execute_result"
    }
   ],
   "source": [
    "mydate.year, mydate.month, mydate.day, mydate.weekday()"
   ]
  },
  {
   "cell_type": "code",
   "execution_count": 8,
   "id": "87b6ac5b",
   "metadata": {},
   "outputs": [],
   "source": [
    "delta = dt.date(2022,10,20) - mydate"
   ]
  },
  {
   "cell_type": "code",
   "execution_count": 9,
   "id": "1573aa95",
   "metadata": {},
   "outputs": [
    {
     "data": {
      "text/plain": [
       "datetime.date(2022, 10, 22)"
      ]
     },
     "execution_count": 9,
     "metadata": {},
     "output_type": "execute_result"
    }
   ],
   "source": [
    "mydate - delta"
   ]
  },
  {
   "cell_type": "code",
   "execution_count": 10,
   "id": "f401b0e5",
   "metadata": {},
   "outputs": [
    {
     "data": {
      "text/plain": [
       "datetime.date(2022, 10, 21)"
      ]
     },
     "execution_count": 10,
     "metadata": {},
     "output_type": "execute_result"
    }
   ],
   "source": [
    "mydate.replace(month = 10)"
   ]
  },
  {
   "cell_type": "code",
   "execution_count": 11,
   "id": "903de916",
   "metadata": {},
   "outputs": [
    {
     "data": {
      "text/plain": [
       "'2022'"
      ]
     },
     "execution_count": 11,
     "metadata": {},
     "output_type": "execute_result"
    }
   ],
   "source": [
    "mydate.strftime('%Y')"
   ]
  },
  {
   "cell_type": "code",
   "execution_count": 12,
   "id": "30cafde1",
   "metadata": {},
   "outputs": [
    {
     "data": {
      "text/plain": [
       "datetime.date(2022, 10, 21)"
      ]
     },
     "execution_count": 12,
     "metadata": {},
     "output_type": "execute_result"
    }
   ],
   "source": [
    "mydate"
   ]
  },
  {
   "cell_type": "code",
   "execution_count": 13,
   "id": "c9d5911e",
   "metadata": {},
   "outputs": [
    {
     "name": "stdout",
     "output_type": "stream",
     "text": [
      "<class 'pandas.core.frame.DataFrame'>\n",
      "Int64Index: 1043 entries, 1 to 1043\n",
      "Data columns (total 14 columns):\n",
      " #   Column          Non-Null Count  Dtype  \n",
      "---  ------          --------------  -----  \n",
      " 0   StringID        1043 non-null   object \n",
      " 1   Product         1043 non-null   object \n",
      " 2   CustomerGender  1043 non-null   object \n",
      " 3   Location        1043 non-null   object \n",
      " 4   Region          1042 non-null   object \n",
      " 5   TotalPrice      1018 non-null   float64\n",
      " 6   StartDate       1042 non-null   object \n",
      " 7   Deposit         1043 non-null   int64  \n",
      " 8   DailyRate       1043 non-null   int64  \n",
      " 9   TotalDaysYr     1043 non-null   int64  \n",
      " 10  AmtPaid36       1043 non-null   int64  \n",
      " 11  AmtPaid60       1043 non-null   int64  \n",
      " 12  AmtPaid360      1043 non-null   int64  \n",
      " 13  LoanStatus      1006 non-null   object \n",
      "dtypes: float64(1), int64(6), object(7)\n",
      "memory usage: 122.2+ KB\n"
     ]
    }
   ],
   "source": [
    "df.info()"
   ]
  },
  {
   "cell_type": "code",
   "execution_count": 14,
   "id": "abc91f46",
   "metadata": {},
   "outputs": [],
   "source": [
    "df['StartDate'] = pd.to_datetime(df['StartDate'])"
   ]
  },
  {
   "cell_type": "code",
   "execution_count": null,
   "id": "bf68fb63",
   "metadata": {},
   "outputs": [],
   "source": []
  },
  {
   "cell_type": "code",
   "execution_count": null,
   "id": "fb78e540",
   "metadata": {},
   "outputs": [],
   "source": []
  },
  {
   "cell_type": "code",
   "execution_count": null,
   "id": "3a841e5f",
   "metadata": {},
   "outputs": [],
   "source": []
  },
  {
   "cell_type": "code",
   "execution_count": null,
   "id": "d7091822",
   "metadata": {},
   "outputs": [],
   "source": []
  },
  {
   "cell_type": "code",
   "execution_count": null,
   "id": "c28fb2bd",
   "metadata": {},
   "outputs": [],
   "source": []
  },
  {
   "cell_type": "markdown",
   "id": "661e8f48",
   "metadata": {},
   "source": [
    "\n",
    "# Timestamp"
   ]
  },
  {
   "cell_type": "code",
   "execution_count": 15,
   "id": "138e3529",
   "metadata": {},
   "outputs": [],
   "source": [
    "mytimestamp = 158215801.2000"
   ]
  },
  {
   "cell_type": "code",
   "execution_count": 16,
   "id": "1c85c7cb",
   "metadata": {},
   "outputs": [
    {
     "name": "stdout",
     "output_type": "stream",
     "text": [
      "1975-01-06 10:20:01.200000\n"
     ]
    }
   ],
   "source": [
    "print(dt.datetime.fromtimestamp(mytimestamp))"
   ]
  },
  {
   "cell_type": "code",
   "execution_count": 17,
   "id": "aeb23327",
   "metadata": {},
   "outputs": [
    {
     "name": "stdout",
     "output_type": "stream",
     "text": [
      "1975-01-06 04:50:01.200000\n"
     ]
    }
   ],
   "source": [
    "#with time zone info\n",
    "print(dt.datetime.utcfromtimestamp(mytimestamp))"
   ]
  },
  {
   "cell_type": "code",
   "execution_count": 18,
   "id": "1ce4a1af",
   "metadata": {},
   "outputs": [
    {
     "data": {
      "text/plain": [
       "datetime.datetime(2022, 10, 22, 17, 36, 50)"
      ]
     },
     "execution_count": 18,
     "metadata": {},
     "output_type": "execute_result"
    }
   ],
   "source": [
    "new_date_time = dt.datetime(2022,10,22,17,36,50)\n",
    "new_date_time"
   ]
  },
  {
   "cell_type": "code",
   "execution_count": 19,
   "id": "7deed528",
   "metadata": {},
   "outputs": [
    {
     "data": {
      "text/plain": [
       "1666440410.0"
      ]
     },
     "execution_count": 19,
     "metadata": {},
     "output_type": "execute_result"
    }
   ],
   "source": [
    "new_date_time.timestamp()"
   ]
  },
  {
   "cell_type": "code",
   "execution_count": 20,
   "id": "52fc3ffe",
   "metadata": {},
   "outputs": [
    {
     "data": {
      "text/plain": [
       "datetime.datetime(2022, 10, 22, 20, 29, 18, 457438)"
      ]
     },
     "execution_count": 20,
     "metadata": {},
     "output_type": "execute_result"
    }
   ],
   "source": [
    "current_time = dt.datetime.now()\n",
    "current_time"
   ]
  },
  {
   "cell_type": "code",
   "execution_count": 21,
   "id": "b7be8785",
   "metadata": {},
   "outputs": [
    {
     "data": {
      "text/plain": [
       "1666450758.457438"
      ]
     },
     "execution_count": 21,
     "metadata": {},
     "output_type": "execute_result"
    }
   ],
   "source": [
    "current_time.timestamp()"
   ]
  },
  {
   "cell_type": "code",
   "execution_count": 22,
   "id": "c54f3ce0",
   "metadata": {},
   "outputs": [],
   "source": [
    "curr_datetime =  current_time.timestamp()"
   ]
  },
  {
   "cell_type": "code",
   "execution_count": 23,
   "id": "4b8f44c8",
   "metadata": {},
   "outputs": [
    {
     "data": {
      "text/plain": [
       "datetime.datetime(2022, 10, 22, 20, 29, 18, 457438)"
      ]
     },
     "execution_count": 23,
     "metadata": {},
     "output_type": "execute_result"
    }
   ],
   "source": [
    "dt.datetime.fromtimestamp(curr_datetime)"
   ]
  },
  {
   "cell_type": "markdown",
   "id": "d4f4f097",
   "metadata": {},
   "source": [
    "# Converting between time zones"
   ]
  },
  {
   "cell_type": "code",
   "execution_count": 30,
   "id": "654c1126",
   "metadata": {},
   "outputs": [],
   "source": [
    "import pytz"
   ]
  },
  {
   "cell_type": "code",
   "execution_count": 29,
   "id": "09014e51",
   "metadata": {},
   "outputs": [
    {
     "name": "stdout",
     "output_type": "stream",
     "text": [
      "None\n"
     ]
    }
   ],
   "source": [
    "print(current_time.tzinfo)"
   ]
  },
  {
   "cell_type": "code",
   "execution_count": 28,
   "id": "de4dd425",
   "metadata": {},
   "outputs": [
    {
     "name": "stdout",
     "output_type": "stream",
     "text": [
      "<built-in method tzname of datetime.datetime object at 0x000001DEDCD41360>\n"
     ]
    }
   ],
   "source": [
    "print(current_time.tzname)"
   ]
  },
  {
   "cell_type": "code",
   "execution_count": 32,
   "id": "a651bc33",
   "metadata": {},
   "outputs": [
    {
     "data": {
      "text/plain": [
       "datetime.datetime(2022, 10, 22, 16, 59, 59, tzinfo=<UTC>)"
      ]
     },
     "execution_count": 32,
     "metadata": {},
     "output_type": "execute_result"
    }
   ],
   "source": [
    "# adding tz_info to date object\n",
    "\n",
    "new_time_zone_info = dt.datetime(2022,10,22,16,59,59, tzinfo= pytz.UTC)\n",
    "new_time_zone_info"
   ]
  },
  {
   "cell_type": "code",
   "execution_count": 33,
   "id": "bbb1a35a",
   "metadata": {},
   "outputs": [
    {
     "name": "stdout",
     "output_type": "stream",
     "text": [
      "UTC\n"
     ]
    }
   ],
   "source": [
    "print(new_time_zone_info.tzinfo)"
   ]
  },
  {
   "cell_type": "code",
   "execution_count": 34,
   "id": "279b02e0",
   "metadata": {},
   "outputs": [
    {
     "name": "stdout",
     "output_type": "stream",
     "text": [
      "<built-in method tzname of datetime.datetime object at 0x000001DEDE7B0E40>\n"
     ]
    }
   ],
   "source": [
    "print(new_time_zone_info.tzname)"
   ]
  },
  {
   "cell_type": "code",
   "execution_count": 35,
   "id": "5466745f",
   "metadata": {},
   "outputs": [
    {
     "data": {
      "text/plain": [
       "datetime.datetime(2022, 10, 22, 12, 59, 59, tzinfo=<DstTzInfo 'US/Eastern' EDT-1 day, 20:00:00 DST>)"
      ]
     },
     "execution_count": 35,
     "metadata": {},
     "output_type": "execute_result"
    }
   ],
   "source": [
    "# changing time Zone info\n",
    "tz_us = new_time_zone_info.astimezone(pytz.timezone('US/Eastern'))\n",
    "tz_us"
   ]
  },
  {
   "cell_type": "code",
   "execution_count": 44,
   "id": "245dcbc0",
   "metadata": {},
   "outputs": [
    {
     "name": "stdout",
     "output_type": "stream",
     "text": [
      "2022-10-22 12:59:59-04:00\n"
     ]
    }
   ],
   "source": [
    "print(tz_us)"
   ]
  },
  {
   "cell_type": "code",
   "execution_count": 53,
   "id": "43dc1cee",
   "metadata": {
    "scrolled": true
   },
   "outputs": [],
   "source": [
    "# pytz.all_timezones"
   ]
  },
  {
   "cell_type": "code",
   "execution_count": 48,
   "id": "64ed1f63",
   "metadata": {},
   "outputs": [],
   "source": [
    "#Asia/Calcutta"
   ]
  },
  {
   "cell_type": "code",
   "execution_count": 50,
   "id": "e4b6a029",
   "metadata": {},
   "outputs": [
    {
     "name": "stdout",
     "output_type": "stream",
     "text": [
      "2022-10-22 22:29:59+05:30\n"
     ]
    }
   ],
   "source": [
    "tz_ind = new_time_zone_info.astimezone(pytz.timezone('Asia/Calcutta'))\n",
    "print(tz_ind)"
   ]
  },
  {
   "cell_type": "code",
   "execution_count": 52,
   "id": "e26eab73",
   "metadata": {},
   "outputs": [
    {
     "name": "stdout",
     "output_type": "stream",
     "text": [
      "2022-10-22 22:29:59+05:30\n"
     ]
    }
   ],
   "source": [
    "ind_tz = tz_us.astimezone(pytz.timezone('Asia/Calcutta'))\n",
    "print(ind_tz)"
   ]
  },
  {
   "cell_type": "markdown",
   "id": "326df54f",
   "metadata": {},
   "source": [
    "# converting between timezones in pandas"
   ]
  },
  {
   "cell_type": "code",
   "execution_count": 55,
   "id": "6ba08db0",
   "metadata": {},
   "outputs": [
    {
     "data": {
      "text/plain": [
       "datetime.datetime"
      ]
     },
     "execution_count": 55,
     "metadata": {},
     "output_type": "execute_result"
    }
   ],
   "source": [
    "type(tz_us)"
   ]
  },
  {
   "cell_type": "code",
   "execution_count": 56,
   "id": "b933e555",
   "metadata": {},
   "outputs": [
    {
     "data": {
      "text/plain": [
       "datetime.datetime"
      ]
     },
     "execution_count": 56,
     "metadata": {},
     "output_type": "execute_result"
    }
   ],
   "source": [
    "type(new_time_zone_info)"
   ]
  },
  {
   "cell_type": "code",
   "execution_count": 63,
   "id": "8e8a947e",
   "metadata": {},
   "outputs": [
    {
     "data": {
      "text/plain": [
       "Timestamp('2022-10-22 12:59:59-0400', tz='US/Eastern')"
      ]
     },
     "execution_count": 63,
     "metadata": {},
     "output_type": "execute_result"
    }
   ],
   "source": [
    "tz_us_pandas = pd.to_datetime(tz_us)\n",
    "tz_us_pandas"
   ]
  },
  {
   "cell_type": "code",
   "execution_count": 58,
   "id": "8e322556",
   "metadata": {},
   "outputs": [
    {
     "data": {
      "text/plain": [
       "pandas._libs.tslibs.timestamps.Timestamp"
      ]
     },
     "execution_count": 58,
     "metadata": {},
     "output_type": "execute_result"
    }
   ],
   "source": [
    "type(tz_us_pandas)"
   ]
  },
  {
   "cell_type": "code",
   "execution_count": 62,
   "id": "b1ef6292",
   "metadata": {},
   "outputs": [
    {
     "data": {
      "text/plain": [
       "Timestamp('2022-10-22 16:59:59+0000', tz='UTC')"
      ]
     },
     "execution_count": 62,
     "metadata": {},
     "output_type": "execute_result"
    }
   ],
   "source": [
    "# converting between time zones in Pandas\n",
    "tz_UTC = tz_us_pandas.tz_convert('utc')\n",
    "tz_UTC"
   ]
  },
  {
   "cell_type": "code",
   "execution_count": 65,
   "id": "0742a73d",
   "metadata": {},
   "outputs": [
    {
     "data": {
      "text/plain": [
       "pandas._libs.tslibs.timestamps.Timestamp"
      ]
     },
     "execution_count": 65,
     "metadata": {},
     "output_type": "execute_result"
    }
   ],
   "source": [
    "type(tz_UTC)"
   ]
  },
  {
   "cell_type": "code",
   "execution_count": 66,
   "id": "533854b5",
   "metadata": {},
   "outputs": [
    {
     "data": {
      "text/plain": [
       "Timestamp('2022-10-22 22:29:59+0530', tz='Asia/Calcutta')"
      ]
     },
     "execution_count": 66,
     "metadata": {},
     "output_type": "execute_result"
    }
   ],
   "source": [
    "tz_uspandas_to_tzind = tz_UTC.tz_convert('Asia/Calcutta')\n",
    "tz_uspandas_to_tzind"
   ]
  },
  {
   "cell_type": "code",
   "execution_count": 67,
   "id": "2ededa3e",
   "metadata": {},
   "outputs": [],
   "source": [
    "# for converting between time zones in pandas dataframe\n",
    "#df['date_tz_Ist'] = pd.DatetimeIndex(df['purchase-date']).tz_convert('Asia/Calcutta')"
   ]
  },
  {
   "cell_type": "code",
   "execution_count": null,
   "id": "66701f8a",
   "metadata": {},
   "outputs": [],
   "source": []
  },
  {
   "cell_type": "code",
   "execution_count": null,
   "id": "2ef4530b",
   "metadata": {},
   "outputs": [],
   "source": []
  },
  {
   "cell_type": "code",
   "execution_count": null,
   "id": "4cb3dd0a",
   "metadata": {},
   "outputs": [],
   "source": []
  },
  {
   "cell_type": "code",
   "execution_count": null,
   "id": "f55b9e77",
   "metadata": {},
   "outputs": [],
   "source": []
  }
 ],
 "metadata": {
  "kernelspec": {
   "display_name": "Python 3",
   "language": "python",
   "name": "python3"
  },
  "language_info": {
   "codemirror_mode": {
    "name": "ipython",
    "version": 3
   },
   "file_extension": ".py",
   "mimetype": "text/x-python",
   "name": "python",
   "nbconvert_exporter": "python",
   "pygments_lexer": "ipython3",
   "version": "3.8.8"
  }
 },
 "nbformat": 4,
 "nbformat_minor": 5
}
